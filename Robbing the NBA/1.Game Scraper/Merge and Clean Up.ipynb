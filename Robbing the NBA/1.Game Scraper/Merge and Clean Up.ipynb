{
 "cells": [
  {
   "cell_type": "code",
   "execution_count": 11,
   "metadata": {
    "scrolled": true
   },
   "outputs": [],
   "source": [
    "import numpy as np\n",
    "import pandas as pd\n",
    "import easydatascience as eds\n",
    "\n",
    "columns = ['Date', 'Game', 'Team', 'Misc', 'Q1', 'Q2', 'Q3', 'Q4',\n",
    "           'Total', 'PITP', '2nd_Pts', 'FBPS', 'TOV']\n",
    "\n",
    "nba1 = pd.read_csv('game_96-00.csv', names=columns)\n",
    "nba2 = pd.read_csv('game_01-11.csv', names=columns)\n",
    "nba3 = pd.read_csv('game_12-18.csv', names=columns)\n",
    "\n",
    "data = pd.concat([nba1, nba2, nba3])\n",
    "#Columns not of any use\n",
    "data = data.iloc[:, :9]\n",
    "data = data.drop('Misc', axis=1)\n",
    "data['Date'] = data['Date'].str[:10]\n",
    "\n",
    "data = data.reset_index(drop=True)"
   ]
  },
  {
   "cell_type": "code",
   "execution_count": 12,
   "metadata": {
    "scrolled": true
   },
   "outputs": [],
   "source": [
    "data.insert(0, 'Season', data['Game'].astype('str').str[1:3])\n",
    "\n",
    "data['Won'] = data['Total'].iloc[::2].gt(data['Total'].iloc[1::2].values).astype(float)\n",
    "data['Won'] = data['Won'].fillna(1-data['Won'].shift()).astype('uint8')\n",
    "\n",
    "data['WonQ1'] = data['Q1'].iloc[::2].gt(data['Q1'].iloc[1::2].values).astype(float)\n",
    "data['WonQ1'] = data['WonQ1'].fillna(1-data['WonQ1'].shift()).astype('uint8')\n",
    "\n",
    "data['H1'] = data['Q1']+data['Q2']\n",
    "data['WonH1'] = data['H1'].iloc[::2].gt(data['H1'].iloc[1::2].values).astype(float)\n",
    "data['WonH1'] = data['WonH1'].fillna(1-data['WonH1'].shift()).astype('uint8')\n",
    "data = data.drop('H1', axis=1)"
   ]
  },
  {
   "cell_type": "code",
   "execution_count": 14,
   "metadata": {
    "scrolled": false
   },
   "outputs": [],
   "source": [
    "data.to_csv('game_data.csv', index=False)"
   ]
  },
  {
   "cell_type": "code",
   "execution_count": null,
   "metadata": {},
   "outputs": [],
   "source": []
  }
 ],
 "metadata": {
  "kernelspec": {
   "display_name": "Python 3",
   "language": "python",
   "name": "python3"
  },
  "language_info": {
   "codemirror_mode": {
    "name": "ipython",
    "version": 3
   },
   "file_extension": ".py",
   "mimetype": "text/x-python",
   "name": "python",
   "nbconvert_exporter": "python",
   "pygments_lexer": "ipython3",
   "version": "3.6.10"
  }
 },
 "nbformat": 4,
 "nbformat_minor": 2
}
