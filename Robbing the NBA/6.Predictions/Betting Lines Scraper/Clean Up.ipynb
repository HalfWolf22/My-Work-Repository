{
 "cells": [
  {
   "cell_type": "code",
   "execution_count": 3,
   "metadata": {},
   "outputs": [],
   "source": [
    "import numpy as np\n",
    "import pandas as pd\n",
    "\n",
    "data = pd.read_csv('lines.csv', header=None)\n",
    "\n",
    "data = data.rename(columns={0: 'Date', 1: 'Team', 2: 'Line'})\n",
    "\n",
    "data['Date'] = data['Date'].astype('str')\n",
    "data['Date'] = data['Date'].str[:4]+'-'+data['Date'].str[4:6]+'-'+data['Date'].str[6:]\n",
    "data['Date'] = pd.to_datetime(data['Date'])\n",
    "data = data.sort_values('Date').reset_index(drop=True)\n",
    "\n",
    "teams = [['Pacers', 'IND'], ['Nuggets', 'DEN'], ['Wizards', 'WAS'], ['Trailblazers', 'POR'], \n",
    "         ['Timberwolves', 'MIN'], ['Supersonics', 'OKC'], ['Suns', 'PHX'], ['Rockets', 'HOU'],\n",
    "         ['Seventysixers', 'PHI'], ['Raptors', 'TOR'], ['Nets', 'BKN'], ['Mavericks', 'DAL'], \n",
    "         ['Pistons', 'DET'], ['Lakers', 'LAL'], ['Magic', 'ORL'], ['Cavaliers', 'CLE'],\n",
    "         ['Celtics', 'BOS'], ['Clippers', 'LAC'], ['Bulls', 'CHI'], ['Hawks', 'ATL'], \n",
    "         ['Heat', 'MIA'], ['Jazz', 'UTA'], ['Kings', 'SAC'], ['Knicks', 'NYK'],\n",
    "         ['Grizzlies', 'MEM'], ['Pelicans', 'NOP'], ['Hornets', 'CHA'], ['Thunder', 'OKC'],\n",
    "         ['Warriors', 'GSW'], ['Spurs', 'SAS'], ['Bucks', 'MIL']]\n",
    "for pair in teams:\n",
    "    data.loc[data['Team']==pair[0], 'Team'] = pair[1]\n",
    "\n",
    "data.to_csv('lines_data.csv', index=False)"
   ]
  },
  {
   "cell_type": "code",
   "execution_count": null,
   "metadata": {},
   "outputs": [],
   "source": []
  }
 ],
 "metadata": {
  "kernelspec": {
   "display_name": "Python 3",
   "language": "python",
   "name": "python3"
  },
  "language_info": {
   "codemirror_mode": {
    "name": "ipython",
    "version": 3
   },
   "file_extension": ".py",
   "mimetype": "text/x-python",
   "name": "python",
   "nbconvert_exporter": "python",
   "pygments_lexer": "ipython3",
   "version": "3.6.10"
  }
 },
 "nbformat": 4,
 "nbformat_minor": 4
}
