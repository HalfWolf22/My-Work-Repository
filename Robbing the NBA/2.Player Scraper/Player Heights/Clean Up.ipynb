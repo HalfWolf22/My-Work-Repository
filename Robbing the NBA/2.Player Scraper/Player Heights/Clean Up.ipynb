{
 "cells": [
  {
   "cell_type": "code",
   "execution_count": 1,
   "metadata": {},
   "outputs": [],
   "source": [
    "import numpy as np\n",
    "import pandas as pd\n",
    "\n",
    "columns = ['Season', 'Player', 'Team', 'Height (in)']\n",
    "data = pd.read_csv('heights.csv', names=columns)\n",
    "data = data.loc[~data['Player'].isna()].reset_index(drop=True)\n",
    "data.to_csv('player_heights.csv', index=False)\n",
    "\n",
    "data['Season'] = data['Season'].astype('str').str.zfill(2).astype('object')"
   ]
  },
  {
   "cell_type": "code",
   "execution_count": 4,
   "metadata": {},
   "outputs": [],
   "source": [
    "data.to_csv('player_heights.csv', index=False)"
   ]
  },
  {
   "cell_type": "code",
   "execution_count": null,
   "metadata": {},
   "outputs": [],
   "source": []
  }
 ],
 "metadata": {
  "kernelspec": {
   "display_name": "Python 3",
   "language": "python",
   "name": "python3"
  },
  "language_info": {
   "codemirror_mode": {
    "name": "ipython",
    "version": 3
   },
   "file_extension": ".py",
   "mimetype": "text/x-python",
   "name": "python",
   "nbconvert_exporter": "python",
   "pygments_lexer": "ipython3",
   "version": "3.6.10"
  }
 },
 "nbformat": 4,
 "nbformat_minor": 2
}
