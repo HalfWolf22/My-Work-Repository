{
 "cells": [
  {
   "cell_type": "code",
   "execution_count": 2,
   "metadata": {},
   "outputs": [],
   "source": [
    "import numpy as np\n",
    "import pandas as pd\n",
    "import easydatascience as eds\n",
    "\n",
    "from sklearn.model_selection import train_test_split\n",
    "from sklearn.preprocessing import StandardScaler\n",
    "\n",
    "from sklearn.linear_model import LogisticRegression\n",
    "from sklearn.naive_bayes import BernoulliNB\n",
    "from xgboost import XGBClassifier\n",
    "import keras\n",
    "\n",
    "from sklearn.metrics import accuracy_score\n",
    "\n",
    "vanilla_data = pd.read_csv('vanilla_data.csv')\n",
    "diff_team_data = pd.read_csv('diff_team_data.csv')\n",
    "diff_data = pd.read_csv('diff_data.csv')\n",
    "compact_data = pd.read_csv('compact_data.csv')\n",
    "compact_diff_data = pd.read_csv('compact_diff_data.csv')\n",
    "bool_team_data = pd.read_csv('bool_team_data.csv')\n",
    "\n",
    "data = {'vanilla': vanilla_data,\n",
    "        'diff_team': diff_team_data,\n",
    "        'diff': diff_data,\n",
    "        'compact': compact_data,\n",
    "        'compact_diff': compact_diff_data,\n",
    "        'bool': bool_team_data}"
   ]
  },
  {
   "cell_type": "markdown",
   "metadata": {},
   "source": [
    "## Boolean Data\n",
    "The first dataset I wanted to examine is with only boolean values. Since it is very simple, it has a lot of use cases:\n",
    "- It doesn't require much computational power so it can be used on any machine.\n",
    "- Since the data is simple, the model can't be too complicated either (easy to understand).\n",
    "- Can be good for some simple early predictions.\n",
    "<br><br>\n",
    "&emsp;Of course, everything that I mentioned above (as I will do with every dataset that I am going to examine) is prone to change and should not be held true until proven otherwise."
   ]
  },
  {
   "cell_type": "code",
   "execution_count": 25,
   "metadata": {},
   "outputs": [
    {
     "name": "stdout",
     "output_type": "stream",
     "text": [
      "Cross Validation Accuracy: 0.9812\n"
     ]
    }
   ],
   "source": [
    "X_train, X_cv, y_train, y_cv = train_test_split(data['bool'].iloc[:, 1:],\n",
    "                                     data['bool']['Blue_Won'], test_size=0.1)\n",
    "X_train, X_test, y_train, y_test = train_test_split(X_train, y_train, test_size=0.1)\n",
    "\n",
    "lr = LogisticRegression()\n",
    "lr.fit(X_train, y_train)\n",
    "\n",
    "print('Cross Validation Accuracy:', round(accuracy_score(y_cv, lr.predict(X_cv)), 4))"
   ]
  },
  {
   "cell_type": "markdown",
   "metadata": {},
   "source": [
    "&emsp;My best guess is that the model is already saturated by similar features with a high correlation. Remember, our goal is not to predict the winner with the data of the game when the game has already been finished, but we want to see the probabilities during the game. So lets first simplify the model and then run an experiment/simulation."
   ]
  },
  {
   "cell_type": "code",
   "execution_count": 142,
   "metadata": {},
   "outputs": [
    {
     "name": "stdout",
     "output_type": "stream",
     "text": [
      "New data accuracy: 0.9502\n",
      "\n",
      "Sample Data:\n"
     ]
    },
    {
     "data": {
      "text/html": [
       "<div>\n",
       "<style scoped>\n",
       "    .dataframe tbody tr th:only-of-type {\n",
       "        vertical-align: middle;\n",
       "    }\n",
       "\n",
       "    .dataframe tbody tr th {\n",
       "        vertical-align: top;\n",
       "    }\n",
       "\n",
       "    .dataframe thead th {\n",
       "        text-align: right;\n",
       "    }\n",
       "</style>\n",
       "<table border=\"1\" class=\"dataframe\">\n",
       "  <thead>\n",
       "    <tr style=\"text-align: right;\">\n",
       "      <th></th>\n",
       "      <th>Blue_FirstBlood</th>\n",
       "      <th>Blue_FirstTower</th>\n",
       "      <th>Blue_FirstInhib</th>\n",
       "      <th>Blue_FirstBaron</th>\n",
       "      <th>Blue_FirstDragon</th>\n",
       "      <th>Blue_FirstHerald</th>\n",
       "      <th>Purp_FirstInhib</th>\n",
       "      <th>Purp_FirstBaron</th>\n",
       "      <th>Purp_FirstHerald</th>\n",
       "      <th>Blue_KDA</th>\n",
       "      <th>Blue_VisionScore</th>\n",
       "    </tr>\n",
       "  </thead>\n",
       "  <tbody>\n",
       "    <tr>\n",
       "      <th>0</th>\n",
       "      <td>0.5</td>\n",
       "      <td>0.5</td>\n",
       "      <td>0.5</td>\n",
       "      <td>0.5</td>\n",
       "      <td>0.5</td>\n",
       "      <td>0.5</td>\n",
       "      <td>0.5</td>\n",
       "      <td>0.5</td>\n",
       "      <td>0.5</td>\n",
       "      <td>0.5</td>\n",
       "      <td>0.5</td>\n",
       "    </tr>\n",
       "  </tbody>\n",
       "</table>\n",
       "</div>"
      ],
      "text/plain": [
       "   Blue_FirstBlood  Blue_FirstTower  Blue_FirstInhib  Blue_FirstBaron  \\\n",
       "0              0.5              0.5              0.5              0.5   \n",
       "\n",
       "   Blue_FirstDragon  Blue_FirstHerald  Purp_FirstInhib  Purp_FirstBaron  \\\n",
       "0               0.5               0.5              0.5              0.5   \n",
       "\n",
       "   Purp_FirstHerald  Blue_KDA  Blue_VisionScore  \n",
       "0               0.5       0.5               0.5  "
      ]
     },
     "metadata": {},
     "output_type": "display_data"
    },
    {
     "name": "stdout",
     "output_type": "stream",
     "text": [
      "---------------------\n",
      "Probability by class:\n",
      "0: 0.5193\n",
      "1: 0.4807\n",
      "---------------------\n"
     ]
    }
   ],
   "source": [
    "bool1 = data['bool'].iloc[:, :12]\n",
    "X1_train, X1_test, y1_train, y1_test = train_test_split(bool1.iloc[:, 1:],\n",
    "                                         bool1['Blue_Won'], test_size=0.1)\n",
    "lr = LogisticRegression()\n",
    "lr.fit(X1_train, y1_train)\n",
    "\n",
    "print('New data accuracy:', round(accuracy_score(y1_test, lr.predict(X1_test)), 4))\n",
    "\n",
    "sample_data = pd.DataFrame(0.5, index=range(1), columns=bool1.columns[1:])\n",
    "\n",
    "def print_sample():\n",
    "    print('\\nSample Data:')\n",
    "    display(sample_data)\n",
    "    \n",
    "print_sample()\n",
    "\n",
    "def proba_byclass():\n",
    "    print('---------------------\\nProbability by class:')\n",
    "    for class_, proba in zip(lr.classes_, lr.predict_proba(sample_data)[0]):\n",
    "        print(str(class_)+':', round(proba, 4))\n",
    "    print('---------------------')\n",
    "        \n",
    "proba_byclass()"
   ]
  },
  {
   "cell_type": "markdown",
   "metadata": {},
   "source": [
    "&emsp;It is expected to see the default results as these since the purple time is slightly favored. Let's see how is this going to play out, __The Blue team gets the First Blood__."
   ]
  },
  {
   "cell_type": "code",
   "execution_count": 143,
   "metadata": {},
   "outputs": [
    {
     "name": "stdout",
     "output_type": "stream",
     "text": [
      "\n",
      "Sample Data:\n"
     ]
    },
    {
     "data": {
      "text/html": [
       "<div>\n",
       "<style scoped>\n",
       "    .dataframe tbody tr th:only-of-type {\n",
       "        vertical-align: middle;\n",
       "    }\n",
       "\n",
       "    .dataframe tbody tr th {\n",
       "        vertical-align: top;\n",
       "    }\n",
       "\n",
       "    .dataframe thead th {\n",
       "        text-align: right;\n",
       "    }\n",
       "</style>\n",
       "<table border=\"1\" class=\"dataframe\">\n",
       "  <thead>\n",
       "    <tr style=\"text-align: right;\">\n",
       "      <th></th>\n",
       "      <th>Blue_FirstBlood</th>\n",
       "      <th>Blue_FirstTower</th>\n",
       "      <th>Blue_FirstInhib</th>\n",
       "      <th>Blue_FirstBaron</th>\n",
       "      <th>Blue_FirstDragon</th>\n",
       "      <th>Blue_FirstHerald</th>\n",
       "      <th>Purp_FirstInhib</th>\n",
       "      <th>Purp_FirstBaron</th>\n",
       "      <th>Purp_FirstHerald</th>\n",
       "      <th>Blue_KDA</th>\n",
       "      <th>Blue_VisionScore</th>\n",
       "    </tr>\n",
       "  </thead>\n",
       "  <tbody>\n",
       "    <tr>\n",
       "      <th>0</th>\n",
       "      <td>1.0</td>\n",
       "      <td>0.5</td>\n",
       "      <td>0.5</td>\n",
       "      <td>0.5</td>\n",
       "      <td>0.5</td>\n",
       "      <td>0.5</td>\n",
       "      <td>0.5</td>\n",
       "      <td>0.5</td>\n",
       "      <td>0.5</td>\n",
       "      <td>1.0</td>\n",
       "      <td>0.5</td>\n",
       "    </tr>\n",
       "  </tbody>\n",
       "</table>\n",
       "</div>"
      ],
      "text/plain": [
       "   Blue_FirstBlood  Blue_FirstTower  Blue_FirstInhib  Blue_FirstBaron  \\\n",
       "0              1.0              0.5              0.5              0.5   \n",
       "\n",
       "   Blue_FirstDragon  Blue_FirstHerald  Purp_FirstInhib  Purp_FirstBaron  \\\n",
       "0               0.5               0.5              0.5              0.5   \n",
       "\n",
       "   Purp_FirstHerald  Blue_KDA  Blue_VisionScore  \n",
       "0               0.5       1.0               0.5  "
      ]
     },
     "metadata": {},
     "output_type": "display_data"
    },
    {
     "name": "stdout",
     "output_type": "stream",
     "text": [
      "---------------------\n",
      "Probability by class:\n",
      "0: 0.1063\n",
      "1: 0.8937\n",
      "---------------------\n"
     ]
    }
   ],
   "source": [
    "sample_data.loc[0, 'Blue_KDA'] = 1\n",
    "sample_data.loc[0, 'Blue_FirstBlood'] = 1\n",
    "\n",
    "print_sample()\n",
    "proba_byclass()"
   ]
  },
  {
   "cell_type": "markdown",
   "metadata": {},
   "source": [
    "&emsp;This looks a bit oversaturated. The problem here is probably the KDA ratio since the model has been trained on the data from finished games and KDA biases the prediction heavily. We should have that in mind continuing from now on but for now, let's just train the same model but now only without that feature. We can also see that here:"
   ]
  },
  {
   "cell_type": "code",
   "execution_count": 144,
   "metadata": {},
   "outputs": [
    {
     "name": "stdout",
     "output_type": "stream",
     "text": [
      "---------------------\n",
      "Log. Reg. Coefficients:\n",
      "\n",
      "Blue_FirstBlood: -0.1043\n",
      "Blue_FirstTower: 0.556\n",
      "Blue_FirstInhib: 1.718\n",
      "Blue_FirstBaron: 0.4588\n",
      "Blue_FirstDragon: 0.6051\n",
      "Blue_FirstHerald: -0.02\n",
      "Purp_FirstInhib: -1.3735\n",
      "Purp_FirstBaron: -0.7782\n",
      "Purp_FirstHerald: -0.0991\n",
      "Blue_KDA: 4.5183\n",
      "Blue_VisionScore: 0.3196\n",
      "---------------------\n"
     ]
    }
   ],
   "source": [
    "print('---------------------\\nLog. Reg. Coefficients:\\n')\n",
    "for ftr, coef in zip(sample_data.columns, lr.coef_[0]):\n",
    "    print(ftr+':', np.round(coef, 4))\n",
    "print('---------------------')"
   ]
  },
  {
   "cell_type": "code",
   "execution_count": 155,
   "metadata": {
    "scrolled": false
   },
   "outputs": [
    {
     "name": "stdout",
     "output_type": "stream",
     "text": [
      "Accuracy: 0.9061 \n",
      "\n",
      "---------------------\n",
      "Probability by class:\n",
      "0: 0.5241\n",
      "1: 0.4759\n",
      "---------------------\n",
      "\n",
      "Sample Data:\n"
     ]
    },
    {
     "data": {
      "text/html": [
       "<div>\n",
       "<style scoped>\n",
       "    .dataframe tbody tr th:only-of-type {\n",
       "        vertical-align: middle;\n",
       "    }\n",
       "\n",
       "    .dataframe tbody tr th {\n",
       "        vertical-align: top;\n",
       "    }\n",
       "\n",
       "    .dataframe thead th {\n",
       "        text-align: right;\n",
       "    }\n",
       "</style>\n",
       "<table border=\"1\" class=\"dataframe\">\n",
       "  <thead>\n",
       "    <tr style=\"text-align: right;\">\n",
       "      <th></th>\n",
       "      <th>Blue_FirstBlood</th>\n",
       "      <th>Blue_FirstTower</th>\n",
       "      <th>Blue_FirstInhib</th>\n",
       "      <th>Blue_FirstBaron</th>\n",
       "      <th>Blue_FirstDragon</th>\n",
       "      <th>Blue_FirstHerald</th>\n",
       "      <th>Purp_FirstInhib</th>\n",
       "      <th>Purp_FirstBaron</th>\n",
       "      <th>Purp_FirstHerald</th>\n",
       "      <th>Blue_VisionScore</th>\n",
       "    </tr>\n",
       "  </thead>\n",
       "  <tbody>\n",
       "    <tr>\n",
       "      <th>0</th>\n",
       "      <td>1.0</td>\n",
       "      <td>0.5</td>\n",
       "      <td>0.5</td>\n",
       "      <td>0.5</td>\n",
       "      <td>0.5</td>\n",
       "      <td>0.5</td>\n",
       "      <td>0.5</td>\n",
       "      <td>0.5</td>\n",
       "      <td>0.5</td>\n",
       "      <td>0.5</td>\n",
       "    </tr>\n",
       "  </tbody>\n",
       "</table>\n",
       "</div>"
      ],
      "text/plain": [
       "   Blue_FirstBlood  Blue_FirstTower  Blue_FirstInhib  Blue_FirstBaron  \\\n",
       "0              1.0              0.5              0.5              0.5   \n",
       "\n",
       "   Blue_FirstDragon  Blue_FirstHerald  Purp_FirstInhib  Purp_FirstBaron  \\\n",
       "0               0.5               0.5              0.5              0.5   \n",
       "\n",
       "   Purp_FirstHerald  Blue_VisionScore  \n",
       "0               0.5               0.5  "
      ]
     },
     "metadata": {},
     "output_type": "display_data"
    },
    {
     "name": "stdout",
     "output_type": "stream",
     "text": [
      "---------------------\n",
      "Probability by class:\n",
      "0: 0.4902\n",
      "1: 0.5098\n",
      "---------------------\n"
     ]
    }
   ],
   "source": [
    "# No KDA\n",
    "bool2 = data['bool'].iloc[:, :12].drop('Blue_KDA', axis=1)\n",
    "X2_train, X2_test, y2_train, y2_test = train_test_split(bool2.iloc[:, 1:],\n",
    "                                         bool1['Blue_Won'], test_size=0.1)\n",
    "lr.fit(X2_train, y2_train)\n",
    "print('Accuracy:', round(accuracy_score(y2_test, lr.predict(X2_test)), 4), '\\n')\n",
    "\n",
    "sample_data = pd.DataFrame(0.5, index=range(1), columns=bool2.columns[1:])\n",
    "\n",
    "proba_byclass()\n",
    "\n",
    "sample_data.loc[0, 'Blue_FirstBlood'] = 1\n",
    "\n",
    "print_sample()\n",
    "proba_byclass()"
   ]
  },
  {
   "cell_type": "markdown",
   "metadata": {},
   "source": [
    "&emsp;Well, that looks much better! Even though the initial probability of the Blue team winning got a bit lower and I can't seem to be able to explain that right now, it has something to do with the KDA obviously but we are going to leave it for now.\n",
    "<br><br>\n",
    "&emsp;On the other side, if you've been paying attention, you might've noticed that Blue_FirstBlood (Blue_FirstHerald is also not very shiny) has a negative coefficient in the Logistic Regression model for some reason. I am not going to explore that into detail so let's just say for now that the model might not be right for the job or that the data doesn't contain enough information. \n",
    "<br><br>\n",
    "&emsp;With that said, __The Purple team uses its jungle vision pressure to take the first dragon but they are quickly countered by the Blue team taking the First Tower. The Blue team takes the First Herald also and they make even more pressure even though the Purple team has more map control through Vision. Blue team snowballs fast taking the first Inhibitor and eventually the First Baron too. By now they have naturally taken over the Vision and they end the game rather fast, by the 25-minute mark. GG!__"
   ]
  },
  {
   "cell_type": "code",
   "execution_count": 156,
   "metadata": {},
   "outputs": [
    {
     "name": "stdout",
     "output_type": "stream",
     "text": [
      "First Dragon taken by Purple.\n",
      "---------------------\n",
      "Probability by class:\n",
      "0: 0.5802\n",
      "1: 0.4198\n",
      "---------------------\n",
      "\n",
      "First Tower taken by Blue.\n",
      "---------------------\n",
      "Probability by class:\n",
      "0: 0.4725\n",
      "1: 0.5275\n",
      "---------------------\n",
      "\n",
      "First Herald taken by Blue.\n",
      "Purple controlls the Vision.\n",
      "---------------------\n",
      "Probability by class:\n",
      "0: 0.6064\n",
      "1: 0.3936\n",
      "---------------------\n",
      "\n",
      "Sample Data:\n"
     ]
    },
    {
     "data": {
      "text/html": [
       "<div>\n",
       "<style scoped>\n",
       "    .dataframe tbody tr th:only-of-type {\n",
       "        vertical-align: middle;\n",
       "    }\n",
       "\n",
       "    .dataframe tbody tr th {\n",
       "        vertical-align: top;\n",
       "    }\n",
       "\n",
       "    .dataframe thead th {\n",
       "        text-align: right;\n",
       "    }\n",
       "</style>\n",
       "<table border=\"1\" class=\"dataframe\">\n",
       "  <thead>\n",
       "    <tr style=\"text-align: right;\">\n",
       "      <th></th>\n",
       "      <th>Blue_FirstBlood</th>\n",
       "      <th>Blue_FirstTower</th>\n",
       "      <th>Blue_FirstInhib</th>\n",
       "      <th>Blue_FirstBaron</th>\n",
       "      <th>Blue_FirstDragon</th>\n",
       "      <th>Blue_FirstHerald</th>\n",
       "      <th>Purp_FirstInhib</th>\n",
       "      <th>Purp_FirstBaron</th>\n",
       "      <th>Purp_FirstHerald</th>\n",
       "      <th>Blue_VisionScore</th>\n",
       "    </tr>\n",
       "  </thead>\n",
       "  <tbody>\n",
       "    <tr>\n",
       "      <th>0</th>\n",
       "      <td>1.0</td>\n",
       "      <td>1.0</td>\n",
       "      <td>0.5</td>\n",
       "      <td>0.5</td>\n",
       "      <td>0.0</td>\n",
       "      <td>1.0</td>\n",
       "      <td>0.5</td>\n",
       "      <td>0.5</td>\n",
       "      <td>0.0</td>\n",
       "      <td>0.0</td>\n",
       "    </tr>\n",
       "  </tbody>\n",
       "</table>\n",
       "</div>"
      ],
      "text/plain": [
       "   Blue_FirstBlood  Blue_FirstTower  Blue_FirstInhib  Blue_FirstBaron  \\\n",
       "0              1.0              1.0              0.5              0.5   \n",
       "\n",
       "   Blue_FirstDragon  Blue_FirstHerald  Purp_FirstInhib  Purp_FirstBaron  \\\n",
       "0               0.0               1.0              0.5              0.5   \n",
       "\n",
       "   Purp_FirstHerald  Blue_VisionScore  \n",
       "0               0.0               0.0  "
      ]
     },
     "metadata": {},
     "output_type": "display_data"
    },
    {
     "name": "stdout",
     "output_type": "stream",
     "text": [
      "\n",
      "First Inhib taken by Blue.\n",
      "---------------------\n",
      "Probability by class:\n",
      "0: 0.1828\n",
      "1: 0.8172\n",
      "---------------------\n",
      "\n",
      "First Baron taken by Blue.\n",
      "Blue controlls the Vision.\n",
      "---------------------\n",
      "Probability by class:\n",
      "0: 0.0269\n",
      "1: 0.9731\n",
      "---------------------\n",
      "\n",
      "Sample Data:\n"
     ]
    },
    {
     "data": {
      "text/html": [
       "<div>\n",
       "<style scoped>\n",
       "    .dataframe tbody tr th:only-of-type {\n",
       "        vertical-align: middle;\n",
       "    }\n",
       "\n",
       "    .dataframe tbody tr th {\n",
       "        vertical-align: top;\n",
       "    }\n",
       "\n",
       "    .dataframe thead th {\n",
       "        text-align: right;\n",
       "    }\n",
       "</style>\n",
       "<table border=\"1\" class=\"dataframe\">\n",
       "  <thead>\n",
       "    <tr style=\"text-align: right;\">\n",
       "      <th></th>\n",
       "      <th>Blue_FirstBlood</th>\n",
       "      <th>Blue_FirstTower</th>\n",
       "      <th>Blue_FirstInhib</th>\n",
       "      <th>Blue_FirstBaron</th>\n",
       "      <th>Blue_FirstDragon</th>\n",
       "      <th>Blue_FirstHerald</th>\n",
       "      <th>Purp_FirstInhib</th>\n",
       "      <th>Purp_FirstBaron</th>\n",
       "      <th>Purp_FirstHerald</th>\n",
       "      <th>Blue_VisionScore</th>\n",
       "    </tr>\n",
       "  </thead>\n",
       "  <tbody>\n",
       "    <tr>\n",
       "      <th>0</th>\n",
       "      <td>1.0</td>\n",
       "      <td>1.0</td>\n",
       "      <td>1.0</td>\n",
       "      <td>1.0</td>\n",
       "      <td>0.0</td>\n",
       "      <td>1.0</td>\n",
       "      <td>0.0</td>\n",
       "      <td>0.0</td>\n",
       "      <td>0.0</td>\n",
       "      <td>1.0</td>\n",
       "    </tr>\n",
       "  </tbody>\n",
       "</table>\n",
       "</div>"
      ],
      "text/plain": [
       "   Blue_FirstBlood  Blue_FirstTower  Blue_FirstInhib  Blue_FirstBaron  \\\n",
       "0              1.0              1.0              1.0              1.0   \n",
       "\n",
       "   Blue_FirstDragon  Blue_FirstHerald  Purp_FirstInhib  Purp_FirstBaron  \\\n",
       "0               0.0               1.0              0.0              0.0   \n",
       "\n",
       "   Purp_FirstHerald  Blue_VisionScore  \n",
       "0               0.0               1.0  "
      ]
     },
     "metadata": {},
     "output_type": "display_data"
    }
   ],
   "source": [
    "sample_data.loc[0, 'Blue_FirstDragon'] = 0\n",
    "print('First Dragon taken by Purple.')\n",
    "proba_byclass()\n",
    "\n",
    "sample_data.loc[0, 'Blue_FirstTower'] = 1\n",
    "print('\\nFirst Tower taken by Blue.')\n",
    "proba_byclass()\n",
    "\n",
    "sample_data.loc[0, 'Blue_FirstHerald'] = 1\n",
    "sample_data.loc[0, 'Purp_FirstHerald'] = 0\n",
    "sample_data.loc[0, 'Blue_VisionScore'] = 0\n",
    "print('\\nFirst Herald taken by Blue.')\n",
    "print('Purple controlls the Vision.')\n",
    "proba_byclass()\n",
    "print_sample()\n",
    "\n",
    "sample_data.loc[0, 'Blue_FirstInhib'] = 1\n",
    "sample_data.loc[0, 'Purp_FirstInhib'] = 0\n",
    "print('\\nFirst Inhib taken by Blue.')\n",
    "proba_byclass()\n",
    "\n",
    "sample_data.loc[0, 'Blue_FirstBaron'] = 1\n",
    "sample_data.loc[0, 'Purp_FirstBaron'] = 0\n",
    "sample_data.loc[0, 'Blue_VisionScore'] = 1\n",
    "print('\\nFirst Baron taken by Blue.')\n",
    "print('Blue controlls the Vision.')\n",
    "proba_byclass()\n",
    "print_sample()"
   ]
  },
  {
   "cell_type": "markdown",
   "metadata": {},
   "source": [
    "&emsp;The other binarized numeric value, Vision, has also taken its toll by having too much weight put on it. It is not the same if a team leads by 0.1 KDA vs, 5 KDA, the same goes for the Vision, we can't reduce it to just that. Besides that, the Bool Data gave us a good overview of how could the probabilities move during the game.\n",
    "<br><br>\n",
    "&emsp;Remember that even though we are training the model on discrete binary variables, our final goal is still to guess a probability __during__ the game and we have no way of evaluating that. So the model's performance during the final testing is going to be purely subjective and we can't do much about it but take care of training on the hard values and not to make the mistakes as it could be seen with the binarized KDA and Vision."
   ]
  },
  {
   "cell_type": "code",
   "execution_count": null,
   "metadata": {},
   "outputs": [],
   "source": [
    "# Don't forget to scale"
   ]
  }
 ],
 "metadata": {
  "kernelspec": {
   "display_name": "Python 3",
   "language": "python",
   "name": "python3"
  },
  "language_info": {
   "codemirror_mode": {
    "name": "ipython",
    "version": 3
   },
   "file_extension": ".py",
   "mimetype": "text/x-python",
   "name": "python",
   "nbconvert_exporter": "python",
   "pygments_lexer": "ipython3",
   "version": "3.7.6"
  }
 },
 "nbformat": 4,
 "nbformat_minor": 4
}
