{
 "cells": [
  {
   "cell_type": "code",
   "execution_count": 113,
   "metadata": {
    "scrolled": false
   },
   "outputs": [],
   "source": [
    "import numpy as np\n",
    "import pandas as pd\n",
    "import matplotlib.pyplot as plt\n",
    "import seaborn as sns\n",
    "import easydatascience as eds\n",
    "import scipy.stats as stats\n",
    "\n",
    "import warnings\n",
    "warnings.simplefilter(action='ignore', category=FutureWarning)\n",
    "\n",
    "data = pd.read_csv('appstore_games.csv').drop(['URL', 'Icon URL', 'Description'], axis=1)\n",
    "data = data.loc[~data['Average User Rating'].isnull()]\n",
    "\n",
    "data[['Subtitle', 'In-app Purchases']] = data[['Subtitle', \n",
    "                                               'In-app Purchases']].fillna('NA')\n",
    "data['Languages'] = data['Languages'].fillna('EN')\n",
    "data.columns = data.columns.str.replace(' ', '_')\n",
    "data.Age_Rating = data.Age_Rating.str.replace('+', '').astype('int32')\n",
    "\n",
    "data['Size_MB'] = round(data['Size']/1024**2, 3)\n",
    "data = data.drop('Size', axis=1)\n",
    "\n",
    "#eds.look(data).sort_values(by='nulls', ascending=False)"
   ]
  },
  {
   "cell_type": "code",
   "execution_count": 114,
   "metadata": {
    "scrolled": false
   },
   "outputs": [],
   "source": [
    "#Instance frequency within these attributes was examined\n",
    "data['Has_Subtitle'] = np.where(data['Subtitle']=='NA', 0, 1)\n",
    "data['Free_to_Play'] = np.where(data['Price']==0, 1, 0)\n",
    "data['In-app_Purchases'] = np.where(data['In-app_Purchases']=='NA', 0, 1)\n",
    "data['Multilingual'] = np.where(data['Languages']=='EN', 0, 1)\n",
    "data = data.drop(['Subtitle', 'Primary_Genre', 'Price', 'Languages'], axis=1)\n",
    "\n",
    "data['Original_Release_Date'] = data['Original_Release_Date'].str.replace('/', '-')\n",
    "data['Current_Version_Release_Date'] = data['Current_Version_Release_Date'].str.replace('/', '-')\n",
    "\n",
    "data['Release_Year'] = pd.to_datetime(data['Original_Release_Date']).dt.year\n",
    "data['Release_Month'] = pd.to_datetime(data['Original_Release_Date']).dt.month\n",
    "data['Days_Since_Last_Update'] = (pd.Timestamp.now().date() - pd.to_datetime(\n",
    "            data['Current_Version_Release_Date']).dt.date).astype('timedelta64[D]')\n",
    "\n",
    "data = data.drop(['Original_Release_Date', 'Current_Version_Release_Date'], axis=1)\n",
    "\n",
    "#names = pd.read_csv('usafirstnames.csv')['Names'].str.lower().values.tolist()\n",
    "#names = '|'.join(names)\n",
    "#data['Developer'] = data['Developer'].str.lower()\n",
    "#data['Indie'] = np.where(data['Developer'].str.contains(names), 1, 0)\n",
    "data = data.drop('Developer', axis=1)\n",
    "\n",
    "data = eds.one_hot_encode(data, 'Genres')\n",
    "data = eds.degrade_columns(data, ', ', filter=True)"
   ]
  },
  {
   "cell_type": "code",
   "execution_count": 115,
   "metadata": {},
   "outputs": [],
   "source": [
    "from sklearn.preprocessing import KBinsDiscretizer\n",
    "\n",
    "kbdisc = KBinsDiscretizer(n_bins=10, encode='ordinal', strategy='quantile')\n",
    "\n",
    "num_data = data\n",
    "num_data[['User_Rating_Count', 'Size_MB']] = kbdisc.fit_transform(num_data[['User_Rating_Count', \n",
    "                                                                            'Size_MB']])\n",
    "\n",
    "corr_drop_list = eds.get_abv_corr(num_data, num_data['Average_User_Rating'], threshold=0.03)\n",
    "num_data = num_data.drop(corr_drop_list, axis=1)\n",
    "\n",
    "#eds.look(train, pred='Average_User_Rating').sort_values(by='corrAverage_User_Rating',\n",
    "#                                                        ascending=False)"
   ]
  },
  {
   "cell_type": "code",
   "execution_count": 116,
   "metadata": {
    "scrolled": true
   },
   "outputs": [],
   "source": [
    "from sklearn.model_selection import train_test_split\n",
    "\n",
    "train, test = train_test_split(num_data, test_size=0.3, random_state=13)\n",
    "\n",
    "test_IDN = test[['ID', 'Name']]\n",
    "test = test.drop(['ID', 'Name'], axis=1)\n",
    "X_test, y_test = test.drop('Average_User_Rating', axis=1), test['Average_User_Rating']\n",
    "\n",
    "#Outliers\n",
    "train_IDN = train[['ID', 'Name']]\n",
    "train = train.drop(['ID', 'Name'], axis=1)\n",
    "X_train, y_train = train.drop('Average_User_Rating', axis=1), train['Average_User_Rating']"
   ]
  },
  {
   "cell_type": "code",
   "execution_count": 118,
   "metadata": {
    "scrolled": false
   },
   "outputs": [
    {
     "name": "stdout",
     "output_type": "stream",
     "text": [
      "R2 score:  0.25159002649250417\n",
      "RMSE:  0.6520850038676677\n",
      "Cross-Validation: \n",
      "\tScores: [0.69491947 0.66223936 0.70677167 0.6573875 ]\n",
      "\tMean: 0.6803294984574422\n",
      "\tStandard deviation: 0.021009781238676327\n"
     ]
    },
    {
     "data": {
      "image/png": "[encoded data removed]",
      "text/plain": [
       "<Figure size 432x288 with 1 Axes>"
      ]
     },
     "metadata": {
      "needs_background": "light"
     },
     "output_type": "display_data"
    }
   ],
   "source": [
    "#eds.print_abv_ft_corr(X_train, 0.45)\n",
    "import xgboost\n",
    "from sklearn.linear_model import LinearRegression\n",
    "\n",
    "xgb_reg = eds.simple_reg_model(xgboost.XGBRegressor(objective ='reg:squarederror'),\n",
    "                               X_train, y_train, return_model=True)"
   ]
  },
  {
   "cell_type": "code",
   "execution_count": 16,
   "metadata": {},
   "outputs": [
    {
     "name": "stdout",
     "output_type": "stream",
     "text": [
      "In-app_Purchases\n",
      "1    0.612882\n",
      "0    0.387118\n",
      "Name: In-app_Purchases, dtype: float64\n",
      "Has_Subtitle\n",
      "0    0.63973\n",
      "1    0.36027\n",
      "Name: Has_Subtitle, dtype: float64\n",
      "Free_to_Play\n",
      "1    0.83653\n",
      "0    0.16347\n",
      "Name: Free_to_Play, dtype: float64\n",
      "Multilingual\n",
      "0    0.665388\n",
      "1    0.334612\n",
      "Name: Multilingual, dtype: float64\n",
      "Board\n",
      "0    0.886655\n",
      "1    0.113345\n",
      "Name: Board, dtype: float64\n",
      "Casual\n",
      "0    0.9303\n",
      "1    0.0697\n",
      "Name: Casual, dtype: float64\n",
      "Puzzle\n",
      "0    0.819072\n",
      "1    0.180928\n",
      "Name: Puzzle, dtype: float64\n",
      "Entertainment\n",
      "0    0.50734\n",
      "1    0.49266\n",
      "Name: Entertainment, dtype: float64\n",
      "Simulation\n",
      "0    0.835207\n",
      "1    0.164793\n",
      "Name: Simulation, dtype: float64\n"
     ]
    }
   ],
   "source": [
    "#EDS\n",
    "for feature in list(num_data):\n",
    "    if data[feature].nunique() < 3:\n",
    "        print((data.groupby(feature)[feature].count()/len(data)).sort_values(ascending=False))"
   ]
  },
  {
   "cell_type": "code",
   "execution_count": 57,
   "metadata": {
    "scrolled": true
   },
   "outputs": [
    {
     "data": {
      "text/plain": [
       "<matplotlib.axes._subplots.AxesSubplot at 0x26501bdd908>"
      ]
     },
     "execution_count": 57,
     "metadata": {},
     "output_type": "execute_result"
    },
    {
     "data": {
      "image/png": "[encoded data removed]",
      "text/plain": [
       "<Figure size 432x288 with 1 Axes>"
      ]
     },
     "metadata": {
      "needs_background": "light"
     },
     "output_type": "display_data"
    }
   ],
   "source": [
    "#EDS\n",
    "sns.distplot(data['Size_MB'], kde_kws={'bw':1})\n",
    "sns.boxplot(train['Days_Since_Last_Update'])\n",
    "sns.distplot(data['Days_Since_Last_Update'])"
   ]
  },
  {
   "cell_type": "code",
   "execution_count": null,
   "metadata": {},
   "outputs": [],
   "source": [
    "#COMUNICATING INSIGHTS"
   ]
  },
  {
   "cell_type": "code",
   "execution_count": 66,
   "metadata": {},
   "outputs": [
    {
     "name": "stdout",
     "output_type": "stream",
     "text": [
      "Average_User_Rating\n",
      "4.5    0.378389\n",
      "4.0    0.227748\n",
      "5.0    0.130935\n",
      "3.5    0.122338\n",
      "3.0    0.067980\n",
      "2.5    0.041926\n",
      "2.0    0.020897\n",
      "1.5    0.007935\n",
      "1.0    0.001852\n",
      "Name: Average_User_Rating, dtype: float64\n"
     ]
    }
   ],
   "source": [
    "print((num_data.groupby('Average_User_Rating')['Average_User_Rating'].count()/len(num_data)).sort_values(ascending=False))"
   ]
  },
  {
   "cell_type": "code",
   "execution_count": 95,
   "metadata": {},
   "outputs": [
    {
     "name": "stdout",
     "output_type": "stream",
     "text": [
      "___________________________\n",
      "Data types:\n",
      " int64      7\n",
      "int32      4\n",
      "float64    4\n",
      "object     1\n",
      "Name: types, dtype: int64\n",
      "___________________________\n"
     ]
    },
    {
     "data": {
      "text/html": [
       "<div>\n",
       "<style scoped>\n",
       "    .dataframe tbody tr th:only-of-type {\n",
       "        vertical-align: middle;\n",
       "    }\n",
       "\n",
       "    .dataframe tbody tr th {\n",
       "        vertical-align: top;\n",
       "    }\n",
       "\n",
       "    .dataframe thead th {\n",
       "        text-align: right;\n",
       "    }\n",
       "</style>\n",
       "<table border=\"1\" class=\"dataframe\">\n",
       "  <thead>\n",
       "    <tr style=\"text-align: right;\">\n",
       "      <th></th>\n",
       "      <th>types</th>\n",
       "      <th>counts</th>\n",
       "      <th>distincts</th>\n",
       "      <th>nulls</th>\n",
       "      <th>missing_ratio</th>\n",
       "      <th>uniques</th>\n",
       "      <th>skewness</th>\n",
       "      <th>corrAverage_User_Rating</th>\n",
       "    </tr>\n",
       "  </thead>\n",
       "  <tbody>\n",
       "    <tr>\n",
       "      <th>Average_User_Rating</th>\n",
       "      <td>float64</td>\n",
       "      <td>7561</td>\n",
       "      <td>9</td>\n",
       "      <td>0</td>\n",
       "      <td>0.0</td>\n",
       "      <td>[[4.0, 3.5, 3.0, 2.5, 2.0, 4.5, 1.5, 5.0, 1.0]]</td>\n",
       "      <td>-1.157873</td>\n",
       "      <td>1.000000</td>\n",
       "    </tr>\n",
       "    <tr>\n",
       "      <th>Release_Year</th>\n",
       "      <td>int64</td>\n",
       "      <td>7561</td>\n",
       "      <td>12</td>\n",
       "      <td>0</td>\n",
       "      <td>0.0</td>\n",
       "      <td>[[2008, 2009, 2016, 2010, 2011, 2014, 2017, 20...</td>\n",
       "      <td>-0.359626</td>\n",
       "      <td>0.231705</td>\n",
       "    </tr>\n",
       "    <tr>\n",
       "      <th>ID</th>\n",
       "      <td>int64</td>\n",
       "      <td>7561</td>\n",
       "      <td>7488</td>\n",
       "      <td>0</td>\n",
       "      <td>0.0</td>\n",
       "      <td>[[284921427, 284926400, 284946595, 285755462, ...</td>\n",
       "      <td>-0.229083</td>\n",
       "      <td>0.210280</td>\n",
       "    </tr>\n",
       "    <tr>\n",
       "      <th>User_Rating_Count</th>\n",
       "      <td>float64</td>\n",
       "      <td>7561</td>\n",
       "      <td>10</td>\n",
       "      <td>0</td>\n",
       "      <td>0.0</td>\n",
       "      <td>[[9.0, 7.0, 4.0, 5.0, 6.0, 8.0, 1.0, 3.0, 0.0,...</td>\n",
       "      <td>-0.007187</td>\n",
       "      <td>0.190414</td>\n",
       "    </tr>\n",
       "    <tr>\n",
       "      <th>Has_Subtitle</th>\n",
       "      <td>int32</td>\n",
       "      <td>7561</td>\n",
       "      <td>2</td>\n",
       "      <td>0</td>\n",
       "      <td>0.0</td>\n",
       "      <td>[[0, 1]]</td>\n",
       "      <td>0.582229</td>\n",
       "      <td>0.185376</td>\n",
       "    </tr>\n",
       "    <tr>\n",
       "      <th>Size_MB</th>\n",
       "      <td>float64</td>\n",
       "      <td>7561</td>\n",
       "      <td>10</td>\n",
       "      <td>0</td>\n",
       "      <td>0.0</td>\n",
       "      <td>[[1.0, 0.0, 2.0, 3.0, 4.0, 6.0, 5.0, 9.0, 8.0,...</td>\n",
       "      <td>-0.000113</td>\n",
       "      <td>0.154844</td>\n",
       "    </tr>\n",
       "    <tr>\n",
       "      <th>In-app_Purchases</th>\n",
       "      <td>int32</td>\n",
       "      <td>7561</td>\n",
       "      <td>2</td>\n",
       "      <td>0</td>\n",
       "      <td>0.0</td>\n",
       "      <td>[[0, 1]]</td>\n",
       "      <td>-0.463586</td>\n",
       "      <td>0.151692</td>\n",
       "    </tr>\n",
       "    <tr>\n",
       "      <th>Casual</th>\n",
       "      <td>int64</td>\n",
       "      <td>7561</td>\n",
       "      <td>2</td>\n",
       "      <td>0</td>\n",
       "      <td>0.0</td>\n",
       "      <td>[[0, 1]]</td>\n",
       "      <td>3.380341</td>\n",
       "      <td>0.052122</td>\n",
       "    </tr>\n",
       "    <tr>\n",
       "      <th>Puzzle</th>\n",
       "      <td>int64</td>\n",
       "      <td>7561</td>\n",
       "      <td>2</td>\n",
       "      <td>0</td>\n",
       "      <td>0.0</td>\n",
       "      <td>[[1, 0]]</td>\n",
       "      <td>1.658021</td>\n",
       "      <td>0.046951</td>\n",
       "    </tr>\n",
       "    <tr>\n",
       "      <th>Multilingual</th>\n",
       "      <td>int32</td>\n",
       "      <td>7561</td>\n",
       "      <td>2</td>\n",
       "      <td>0</td>\n",
       "      <td>0.0</td>\n",
       "      <td>[[1, 0]]</td>\n",
       "      <td>0.701152</td>\n",
       "      <td>0.037830</td>\n",
       "    </tr>\n",
       "    <tr>\n",
       "      <th>Free_to_Play</th>\n",
       "      <td>int32</td>\n",
       "      <td>7561</td>\n",
       "      <td>2</td>\n",
       "      <td>0</td>\n",
       "      <td>0.0</td>\n",
       "      <td>[[0, 1]]</td>\n",
       "      <td>-1.820452</td>\n",
       "      <td>0.031072</td>\n",
       "    </tr>\n",
       "    <tr>\n",
       "      <th>Entertainment</th>\n",
       "      <td>int64</td>\n",
       "      <td>7561</td>\n",
       "      <td>2</td>\n",
       "      <td>0</td>\n",
       "      <td>0.0</td>\n",
       "      <td>[[0, 1]]</td>\n",
       "      <td>0.029370</td>\n",
       "      <td>-0.037803</td>\n",
       "    </tr>\n",
       "    <tr>\n",
       "      <th>Simulation</th>\n",
       "      <td>int64</td>\n",
       "      <td>7561</td>\n",
       "      <td>2</td>\n",
       "      <td>0</td>\n",
       "      <td>0.0</td>\n",
       "      <td>[[0, 1]]</td>\n",
       "      <td>1.807435</td>\n",
       "      <td>-0.043359</td>\n",
       "    </tr>\n",
       "    <tr>\n",
       "      <th>Board</th>\n",
       "      <td>int64</td>\n",
       "      <td>7561</td>\n",
       "      <td>2</td>\n",
       "      <td>0</td>\n",
       "      <td>0.0</td>\n",
       "      <td>[[0, 1]]</td>\n",
       "      <td>2.439843</td>\n",
       "      <td>-0.086449</td>\n",
       "    </tr>\n",
       "    <tr>\n",
       "      <th>Days_Since_Last_Update</th>\n",
       "      <td>float64</td>\n",
       "      <td>7561</td>\n",
       "      <td>2170</td>\n",
       "      <td>0</td>\n",
       "      <td>0.0</td>\n",
       "      <td>[[882.0, 530.0, 903.0, 464.0, 183.0, 2175.0, 5...</td>\n",
       "      <td>0.981149</td>\n",
       "      <td>-0.247444</td>\n",
       "    </tr>\n",
       "    <tr>\n",
       "      <th>Name</th>\n",
       "      <td>object</td>\n",
       "      <td>7561</td>\n",
       "      <td>7488</td>\n",
       "      <td>0</td>\n",
       "      <td>0.0</td>\n",
       "      <td>[[Sudoku, Reversi, Morocco, Sudoku (Free), Sen...</td>\n",
       "      <td>NaN</td>\n",
       "      <td>NaN</td>\n",
       "    </tr>\n",
       "  </tbody>\n",
       "</table>\n",
       "</div>"
      ],
      "text/plain": [
       "                          types  counts  distincts  nulls  missing_ratio  \\\n",
       "Average_User_Rating     float64    7561          9      0            0.0   \n",
       "Release_Year              int64    7561         12      0            0.0   \n",
       "ID                        int64    7561       7488      0            0.0   \n",
       "User_Rating_Count       float64    7561         10      0            0.0   \n",
       "Has_Subtitle              int32    7561          2      0            0.0   \n",
       "Size_MB                 float64    7561         10      0            0.0   \n",
       "In-app_Purchases          int32    7561          2      0            0.0   \n",
       "Casual                    int64    7561          2      0            0.0   \n",
       "Puzzle                    int64    7561          2      0            0.0   \n",
       "Multilingual              int32    7561          2      0            0.0   \n",
       "Free_to_Play              int32    7561          2      0            0.0   \n",
       "Entertainment             int64    7561          2      0            0.0   \n",
       "Simulation                int64    7561          2      0            0.0   \n",
       "Board                     int64    7561          2      0            0.0   \n",
       "Days_Since_Last_Update  float64    7561       2170      0            0.0   \n",
       "Name                     object    7561       7488      0            0.0   \n",
       "\n",
       "                                                                  uniques  \\\n",
       "Average_User_Rating       [[4.0, 3.5, 3.0, 2.5, 2.0, 4.5, 1.5, 5.0, 1.0]]   \n",
       "Release_Year            [[2008, 2009, 2016, 2010, 2011, 2014, 2017, 20...   \n",
       "ID                      [[284921427, 284926400, 284946595, 285755462, ...   \n",
       "User_Rating_Count       [[9.0, 7.0, 4.0, 5.0, 6.0, 8.0, 1.0, 3.0, 0.0,...   \n",
       "Has_Subtitle                                                     [[0, 1]]   \n",
       "Size_MB                 [[1.0, 0.0, 2.0, 3.0, 4.0, 6.0, 5.0, 9.0, 8.0,...   \n",
       "In-app_Purchases                                                 [[0, 1]]   \n",
       "Casual                                                           [[0, 1]]   \n",
       "Puzzle                                                           [[1, 0]]   \n",
       "Multilingual                                                     [[1, 0]]   \n",
       "Free_to_Play                                                     [[0, 1]]   \n",
       "Entertainment                                                    [[0, 1]]   \n",
       "Simulation                                                       [[0, 1]]   \n",
       "Board                                                            [[0, 1]]   \n",
       "Days_Since_Last_Update  [[882.0, 530.0, 903.0, 464.0, 183.0, 2175.0, 5...   \n",
       "Name                    [[Sudoku, Reversi, Morocco, Sudoku (Free), Sen...   \n",
       "\n",
       "                        skewness  corrAverage_User_Rating  \n",
       "Average_User_Rating    -1.157873                 1.000000  \n",
       "Release_Year           -0.359626                 0.231705  \n",
       "ID                     -0.229083                 0.210280  \n",
       "User_Rating_Count      -0.007187                 0.190414  \n",
       "Has_Subtitle            0.582229                 0.185376  \n",
       "Size_MB                -0.000113                 0.154844  \n",
       "In-app_Purchases       -0.463586                 0.151692  \n",
       "Casual                  3.380341                 0.052122  \n",
       "Puzzle                  1.658021                 0.046951  \n",
       "Multilingual            0.701152                 0.037830  \n",
       "Free_to_Play           -1.820452                 0.031072  \n",
       "Entertainment           0.029370                -0.037803  \n",
       "Simulation              1.807435                -0.043359  \n",
       "Board                   2.439843                -0.086449  \n",
       "Days_Since_Last_Update  0.981149                -0.247444  \n",
       "Name                         NaN                      NaN  "
      ]
     },
     "execution_count": 95,
     "metadata": {},
     "output_type": "execute_result"
    }
   ],
   "source": [
    "eds.look(num_data, 'Average_User_Rating').sort_values(by='corrAverage_User_Rating', ascending=False)"
   ]
  },
  {
   "cell_type": "code",
   "execution_count": 96,
   "metadata": {},
   "outputs": [
    {
     "data": {
      "text/plain": [
       "(5292, 13)"
      ]
     },
     "execution_count": 96,
     "metadata": {},
     "output_type": "execute_result"
    }
   ],
   "source": [
    "X_train.shape"
   ]
  },
  {
   "cell_type": "code",
   "execution_count": 99,
   "metadata": {},
   "outputs": [
    {
     "ename": "TypeError",
     "evalue": "'float' object cannot be interpreted as an integer",
     "output_type": "error",
     "traceback": [
      "\u001b[1;31m---------------------------------------------------------------------------\u001b[0m",
      "\u001b[1;31mTypeError\u001b[0m                                 Traceback (most recent call last)",
      "\u001b[1;32m<ipython-input-99-d4d2807ed070>\u001b[0m in \u001b[0;36m<module>\u001b[1;34m\u001b[0m\n\u001b[1;32m----> 1\u001b[1;33m \u001b[0mrange\u001b[0m\u001b[1;33m(\u001b[0m\u001b[1;36m1.0\u001b[0m\u001b[1;33m,\u001b[0m \u001b[1;36m5.5\u001b[0m\u001b[1;33m,\u001b[0m \u001b[1;36m0.5\u001b[0m\u001b[1;33m)\u001b[0m\u001b[1;33m\u001b[0m\u001b[1;33m\u001b[0m\u001b[0m\n\u001b[0m",
      "\u001b[1;31mTypeError\u001b[0m: 'float' object cannot be interpreted as an integer"
     ]
    }
   ],
   "source": [
    "range(1.0, 5.5, 0.5)"
   ]
  },
  {
   "cell_type": "code",
   "execution_count": 123,
   "metadata": {},
   "outputs": [
    {
     "name": "stdout",
     "output_type": "stream",
     "text": [
      "<class 'pandas.core.frame.DataFrame'>\n",
      "Int64Index: 5292 entries, 12054 to 357\n",
      "Data columns (total 13 columns):\n",
      "User_Rating_Count         5292 non-null float64\n",
      "In-app_Purchases          5292 non-null int32\n",
      "Size_MB                   5292 non-null float64\n",
      "Has_Subtitle              5292 non-null int32\n",
      "Free_to_Play              5292 non-null int32\n",
      "Multilingual              5292 non-null int32\n",
      "Release_Year              5292 non-null int64\n",
      "Days_Since_Last_Update    5292 non-null float64\n",
      "Board                     5292 non-null int64\n",
      "Casual                    5292 non-null int64\n",
      "Puzzle                    5292 non-null int64\n",
      "Entertainment             5292 non-null int64\n",
      "Simulation                5292 non-null int64\n",
      "dtypes: float64(3), int32(4), int64(6)\n",
      "memory usage: 496.1 KB\n"
     ]
    }
   ],
   "source": [
    "X_train.info()"
   ]
  },
  {
   "cell_type": "code",
   "execution_count": null,
   "metadata": {},
   "outputs": [],
   "source": []
  }
 ],
 "metadata": {
  "kernelspec": {
   "display_name": "Python 3",
   "language": "python",
   "name": "python3"
  },
  "language_info": {
   "codemirror_mode": {
    "name": "ipython",
    "version": 3
   },
   "file_extension": ".py",
   "mimetype": "text/x-python",
   "name": "python",
   "nbconvert_exporter": "python",
   "pygments_lexer": "ipython3",
   "version": "3.7.3"
  }
 },
 "nbformat": 4,
 "nbformat_minor": 2
}
