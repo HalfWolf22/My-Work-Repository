{
 "cells": [
  {
   "cell_type": "code",
   "execution_count": 1,
   "metadata": {},
   "outputs": [],
   "source": [
    "import numpy as np\n",
    "import pandas as pd\n",
    "import easydatascience as eds\n",
    "\n",
    "%matplotlib inline\n",
    "import matplotlib.pyplot as plt\n",
    "import seaborn as sns\n",
    "import waterfall_chart\n",
    "\n",
    "from sklearn.model_selection import train_test_split\n",
    "from sklearn.preprocessing import StandardScaler\n",
    "\n",
    "from sklearn.decomposition import PCA\n",
    "from sklearn.linear_model import LinearRegression\n",
    "from sklearn.linear_model import LogisticRegression\n",
    "from xgboost import XGBClassifier\n",
    "from xgboost import XGBRegressor\n",
    "\n",
    "from sklearn.model_selection import KFold\n",
    "from sklearn.metrics import accuracy_score\n",
    "from sklearn.metrics import mean_squared_error\n",
    "from sklearn.metrics import confusion_matrix\n",
    "\n",
    "from sklearn.pipeline import Pipeline\n",
    "import joblib\n",
    "\n",
    "plt.rcParams.update({'figure.figsize':(8, 5), 'figure.dpi':100})\n",
    "\n",
    "data = pd.read_csv('data.csv')\n",
    "\n",
    "X_train, X_test, y_train, y_test = train_test_split(data.drop('Blue_Won', axis=1), \n",
    "                                                    data['Blue_Won'], test_size=0.1)"
   ]
  },
  {
   "cell_type": "markdown",
   "metadata": {},
   "source": [
    "## EDA"
   ]
  },
  {
   "cell_type": "markdown",
   "metadata": {},
   "source": [
    "### Baseline"
   ]
  },
  {
   "cell_type": "code",
   "execution_count": 2,
   "metadata": {},
   "outputs": [],
   "source": [
    "def kfold_test(df, y, model, iters=1, kfolds=10):\n",
    "    # K-fold CV over n iterations. Returns a list of lists\n",
    "    # containing average accuracies and their stds\n",
    "    kf = KFold(kfolds, shuffle=True)\n",
    "    out = []\n",
    "\n",
    "    for iter in range(iters):\n",
    "        accuracies = []\n",
    "        # k1 = k-1\n",
    "        for k1_fold, k_fold in kf.split(df):\n",
    "            model.fit(df.iloc[k1_fold], y.iloc[k1_fold])\n",
    "        \n",
    "            accuracies.append(accuracy_score(y.iloc[k_fold],\n",
    "                              model.predict(df.iloc[k_fold])))\n",
    "            \n",
    "        out.append([np.mean(accuracies).round(3), np.std(accuracies).round(3)])\n",
    "    \n",
    "    return out"
   ]
  },
  {
   "cell_type": "code",
   "execution_count": 3,
   "metadata": {},
   "outputs": [
    {
     "name": "stdout",
     "output_type": "stream",
     "text": [
      "Accuracies of a simple model:\n",
      "\n",
      "Iteration 1:\n",
      "Mean: 0.986 Std: 0.003\n",
      "\n",
      "Iteration 2:\n",
      "Mean: 0.985 Std: 0.002\n",
      "\n",
      "Iteration 3:\n",
      "Mean: 0.986 Std: 0.003\n",
      "\n"
     ]
    }
   ],
   "source": [
    "og_train, og_test = X_train.iloc[:, 1:15], X_test.iloc[:, 1:15]\n",
    "\n",
    "xgbc = XGBClassifier()\n",
    "\n",
    "og_scores = kfold_test(og_train, y_train, xgbc, iters=3, kfolds=5)\n",
    "\n",
    "print('Accuracies of a simple model:\\n')\n",
    "for i, v in enumerate(og_scores):\n",
    "    print('Iteration '+str(i+1)+':\\nMean: '+str(v[0])+' Std: '+str(v[1])+'\\n')"
   ]
  },
  {
   "cell_type": "code",
   "execution_count": 4,
   "metadata": {
    "scrolled": true
   },
   "outputs": [
    {
     "name": "stdout",
     "output_type": "stream",
     "text": [
      "Blue_KillsTower 0.088\n",
      "Blue_KillsInhib 0.053\n",
      "Blue_KillsBaron 0.006\n",
      "Blue_KillsDragon 0.006\n",
      "Purp_KillsTower 0.091\n",
      "Purp_KillsInhib 0.705\n",
      "Purp_KillsBaron 0.009\n",
      "Purp_KillsDragon 0.007\n",
      "Blue_Kills 0.004\n",
      "Blue_Assists 0.009\n",
      "Blue_Gold 0.004\n",
      "Purp_Kills 0.003\n",
      "Purp_Assists 0.01\n",
      "Purp_Gold 0.005\n",
      "---------------------\n",
      "Blue_KillsTower 0.062\n",
      "Blue_KillsInhib 0.527\n",
      "Blue_KillsBaron 0.008\n",
      "Blue_KillsDragon 0.008\n",
      "Purp_KillsTower 0.323\n",
      "Purp_KillsBaron 0.013\n",
      "Purp_KillsDragon 0.009\n",
      "Blue_Kills 0.004\n",
      "Blue_Assists 0.012\n",
      "Blue_Gold 0.007\n",
      "Purp_Kills 0.005\n",
      "Purp_Assists 0.016\n",
      "Purp_Gold 0.006\n",
      "---------------------\n",
      "Blue_KillsTower 0.152\n",
      "Blue_KillsBaron 0.012\n",
      "Blue_KillsDragon 0.008\n",
      "Purp_KillsTower 0.717\n",
      "Purp_KillsBaron 0.018\n",
      "Purp_KillsDragon 0.014\n",
      "Blue_Kills 0.007\n",
      "Blue_Assists 0.021\n",
      "Blue_Gold 0.009\n",
      "Purp_Kills 0.005\n",
      "Purp_Assists 0.026\n",
      "Purp_Gold 0.009\n",
      "---------------------\n",
      "Blue_KillsTower 0.736\n",
      "Blue_KillsBaron 0.009\n",
      "Blue_KillsDragon 0.017\n",
      "Purp_KillsBaron 0.069\n",
      "Purp_KillsDragon 0.015\n",
      "Blue_Kills 0.01\n",
      "Blue_Assists 0.026\n",
      "Blue_Gold 0.027\n",
      "Purp_Kills 0.006\n",
      "Purp_Assists 0.039\n",
      "Purp_Gold 0.046\n",
      "---------------------\n",
      "Blue_KillsBaron 0.062\n",
      "Blue_KillsDragon 0.071\n",
      "Purp_KillsBaron 0.618\n",
      "Purp_KillsDragon 0.031\n",
      "Blue_Kills 0.044\n",
      "Blue_Assists 0.028\n",
      "Blue_Gold 0.035\n",
      "Purp_Kills 0.074\n",
      "Purp_Assists 0.012\n",
      "Purp_Gold 0.026\n",
      "---------------------\n",
      "Blue_KillsBaron 0.226\n",
      "Blue_KillsDragon 0.053\n",
      "Purp_KillsDragon 0.07\n",
      "Blue_Kills 0.223\n",
      "Blue_Assists 0.02\n",
      "Blue_Gold 0.041\n",
      "Purp_Kills 0.296\n",
      "Purp_Assists 0.027\n",
      "Purp_Gold 0.044\n",
      "---------------------\n",
      "Blue_KillsBaron 0.588\n",
      "Blue_KillsDragon 0.054\n",
      "Purp_KillsDragon 0.071\n",
      "Blue_Kills 0.099\n",
      "Blue_Assists 0.022\n",
      "Blue_Gold 0.045\n",
      "Purp_Assists 0.043\n",
      "Purp_Gold 0.078\n",
      "---------------------\n",
      "Blue_KillsDragon 0.131\n",
      "Purp_KillsDragon 0.211\n",
      "Blue_Kills 0.265\n",
      "Blue_Assists 0.058\n",
      "Blue_Gold 0.11\n",
      "Purp_Assists 0.046\n",
      "Purp_Gold 0.179\n",
      "---------------------\n",
      "Blue_KillsDragon 0.078\n",
      "Purp_KillsDragon 0.565\n",
      "Blue_Assists 0.115\n",
      "Blue_Gold 0.086\n",
      "Purp_Assists 0.066\n",
      "Purp_Gold 0.09\n",
      "---------------------\n",
      "Blue_KillsDragon 0.411\n",
      "Blue_Assists 0.196\n",
      "Blue_Gold 0.108\n",
      "Purp_Assists 0.123\n",
      "Purp_Gold 0.163\n",
      "---------------------\n",
      "Blue_Assists 0.366\n",
      "Blue_Gold 0.19\n",
      "Purp_Assists 0.15\n",
      "Purp_Gold 0.293\n",
      "---------------------\n",
      "Blue_Gold 0.395\n",
      "Purp_Assists 0.336\n",
      "Purp_Gold 0.269\n",
      "---------------------\n",
      "Purp_Assists 0.732\n",
      "Purp_Gold 0.268\n",
      "---------------------\n"
     ]
    }
   ],
   "source": [
    "# Fitting the model, printing feature importances and then removing\n",
    "# the most influential feature. The process is repeated.\n",
    "\n",
    "def minus_one(df, y, model, iters):\n",
    "    curr_data = df.copy()\n",
    "\n",
    "    for _ in range(iters):\n",
    "        model.fit(curr_data, y);\n",
    "\n",
    "        for ftr, imprt in zip(curr_data.columns, model.feature_importances_):\n",
    "            print(ftr, imprt.round(3))\n",
    "        \n",
    "        # Drop the most influential feature\n",
    "        curr_data = curr_data.drop(curr_data.columns[model.feature_importances_.argmax()], axis=1)\n",
    "        print(21*'-')\n",
    "    \n",
    "minus_one(og_train, y_train, XGBClassifier(), og_train.shape[1]-1)"
   ]
  },
  {
   "cell_type": "markdown",
   "metadata": {},
   "source": [
    "### Prediction influencers and the \"Dragons\" features"
   ]
  },
  {
   "cell_type": "code",
   "execution_count": 5,
   "metadata": {
    "scrolled": true
   },
   "outputs": [
    {
     "name": "stdout",
     "output_type": "stream",
     "text": [
      "Blue_KillsTower 0.47\n",
      "Blue_KillsInhib 0.028\n",
      "Blue_KillsBaron 0.027\n",
      "Purp_KillsTower 0.075\n",
      "Purp_KillsInhib 0.039\n",
      "Purp_KillsBaron 0.035\n",
      "Blue_Kills 0.042\n",
      "Blue_Assists 0.04\n",
      "Blue_Gold 0.085\n",
      "Purp_Kills 0.066\n",
      "Purp_Assists 0.042\n",
      "Purp_Gold 0.05\n",
      "---------------------\n",
      "Blue_KillsInhib 0.578\n",
      "Blue_KillsBaron 0.018\n",
      "Purp_KillsTower 0.052\n",
      "Purp_KillsInhib 0.047\n",
      "Purp_KillsBaron 0.024\n",
      "Blue_Kills 0.042\n",
      "Blue_Assists 0.028\n",
      "Blue_Gold 0.076\n",
      "Purp_Kills 0.058\n",
      "Purp_Assists 0.034\n",
      "Purp_Gold 0.042\n",
      "---------------------\n",
      "Blue_KillsBaron 0.019\n",
      "Purp_KillsTower 0.417\n",
      "Purp_KillsInhib 0.044\n",
      "Purp_KillsBaron 0.038\n",
      "Blue_Kills 0.059\n",
      "Blue_Assists 0.044\n",
      "Blue_Gold 0.176\n",
      "Purp_Kills 0.091\n",
      "Purp_Assists 0.052\n",
      "Purp_Gold 0.061\n",
      "---------------------\n",
      "Blue_KillsBaron 0.019\n",
      "Purp_KillsInhib 0.562\n",
      "Purp_KillsBaron 0.024\n",
      "Blue_Kills 0.054\n",
      "Blue_Assists 0.034\n",
      "Blue_Gold 0.14\n",
      "Purp_Kills 0.076\n",
      "Purp_Assists 0.039\n",
      "Purp_Gold 0.053\n",
      "---------------------\n",
      "Blue_KillsBaron 0.027\n",
      "Purp_KillsBaron 0.032\n",
      "Blue_Kills 0.158\n",
      "Blue_Assists 0.053\n",
      "Blue_Gold 0.287\n",
      "Purp_Kills 0.244\n",
      "Purp_Assists 0.072\n",
      "Purp_Gold 0.127\n",
      "---------------------\n"
     ]
    }
   ],
   "source": [
    "dragon_X, dragon_y = og_train.drop(['Blue_KillsDragon', 'Purp_KillsDragon'], axis=1), og_train['Blue_KillsDragon']\n",
    "\n",
    "xgbr = XGBRegressor()\n",
    "\n",
    "xgbr.fit(dragon_X, dragon_y)\n",
    "minus_one(dragon_X, dragon_y, XGBRegressor(), 5)"
   ]
  },
  {
   "cell_type": "code",
   "execution_count": 6,
   "metadata": {},
   "outputs": [
    {
     "name": "stdout",
     "output_type": "stream",
     "text": [
      "Predicting the # of dragons tests:\n",
      "\n",
      "RMSE: 1.01\n",
      "\n",
      "Confusion matrix of the rounded predictions:\n"
     ]
    },
    {
     "data": {
      "text/html": [
       "<div>\n",
       "<style scoped>\n",
       "    .dataframe tbody tr th:only-of-type {\n",
       "        vertical-align: middle;\n",
       "    }\n",
       "\n",
       "    .dataframe tbody tr th {\n",
       "        vertical-align: top;\n",
       "    }\n",
       "\n",
       "    .dataframe thead th {\n",
       "        text-align: right;\n",
       "    }\n",
       "</style>\n",
       "<table border=\"1\" class=\"dataframe\">\n",
       "  <thead>\n",
       "    <tr style=\"text-align: right;\">\n",
       "      <th></th>\n",
       "      <th>0 Drakes</th>\n",
       "      <th>1 Drakes</th>\n",
       "      <th>2 Drakes</th>\n",
       "      <th>3 Drakes</th>\n",
       "      <th>4 Drakes</th>\n",
       "      <th>5 Drakes</th>\n",
       "    </tr>\n",
       "  </thead>\n",
       "  <tbody>\n",
       "    <tr>\n",
       "      <th>0 Drakes</th>\n",
       "      <td>11</td>\n",
       "      <td>107</td>\n",
       "      <td>28</td>\n",
       "      <td>3</td>\n",
       "      <td>0</td>\n",
       "      <td>0</td>\n",
       "    </tr>\n",
       "    <tr>\n",
       "      <th>1 Drakes</th>\n",
       "      <td>16</td>\n",
       "      <td>131</td>\n",
       "      <td>75</td>\n",
       "      <td>32</td>\n",
       "      <td>2</td>\n",
       "      <td>0</td>\n",
       "    </tr>\n",
       "    <tr>\n",
       "      <th>2 Drakes</th>\n",
       "      <td>1</td>\n",
       "      <td>75</td>\n",
       "      <td>86</td>\n",
       "      <td>112</td>\n",
       "      <td>13</td>\n",
       "      <td>0</td>\n",
       "    </tr>\n",
       "    <tr>\n",
       "      <th>3 Drakes</th>\n",
       "      <td>0</td>\n",
       "      <td>24</td>\n",
       "      <td>68</td>\n",
       "      <td>114</td>\n",
       "      <td>17</td>\n",
       "      <td>2</td>\n",
       "    </tr>\n",
       "    <tr>\n",
       "      <th>4 Drakes</th>\n",
       "      <td>0</td>\n",
       "      <td>3</td>\n",
       "      <td>32</td>\n",
       "      <td>130</td>\n",
       "      <td>34</td>\n",
       "      <td>0</td>\n",
       "    </tr>\n",
       "    <tr>\n",
       "      <th>5 Drakes</th>\n",
       "      <td>0</td>\n",
       "      <td>0</td>\n",
       "      <td>0</td>\n",
       "      <td>10</td>\n",
       "      <td>11</td>\n",
       "      <td>0</td>\n",
       "    </tr>\n",
       "  </tbody>\n",
       "</table>\n",
       "</div>"
      ],
      "text/plain": [
       "          0 Drakes  1 Drakes  2 Drakes  3 Drakes  4 Drakes  5 Drakes\n",
       "0 Drakes        11       107        28         3         0         0\n",
       "1 Drakes        16       131        75        32         2         0\n",
       "2 Drakes         1        75        86       112        13         0\n",
       "3 Drakes         0        24        68       114        17         2\n",
       "4 Drakes         0         3        32       130        34         0\n",
       "5 Drakes         0         0         0        10        11         0"
      ]
     },
     "metadata": {},
     "output_type": "display_data"
    },
    {
     "name": "stdout",
     "output_type": "stream",
     "text": [
      "\n",
      "\n",
      "\n"
     ]
    },
    {
     "data": {
      "text/plain": [
       "Text(0, 0.5, 'Predicted values')"
      ]
     },
     "execution_count": 6,
     "metadata": {},
     "output_type": "execute_result"
    },
    {
     "data": {
      "image/png": "[encoded data removed]",
      "text/plain": [
       "<Figure size 800x500 with 1 Axes>"
      ]
     },
     "metadata": {
      "needs_background": "light"
     },
     "output_type": "display_data"
    }
   ],
   "source": [
    "dragon_X_test, dragon_y_test = og_test.drop(['Blue_KillsDragon', 'Purp_KillsDragon'], axis=1), og_test['Blue_KillsDragon']\n",
    "preds = xgbr.predict(dragon_X_test)\n",
    "\n",
    "rmse = np.sqrt(mean_squared_error(dragon_y_test, preds))\n",
    "print('Predicting the # of dragons tests:\\n\\nRMSE:', round(rmse, 3))\n",
    "\n",
    "# Rounding the predictions and making a confusion matrix\n",
    "col_names = [str(i) + ' Drakes' for i in range(6)]\n",
    "print('\\nConfusion matrix of the rounded predictions:')\n",
    "display(pd.DataFrame(confusion_matrix(dragon_y_test, np.round(preds)), index=col_names, columns=col_names))\n",
    "\n",
    "print('\\n\\n')\n",
    "\n",
    "fig, ax = plt.subplots()\n",
    "sns.boxplot(x=dragon_y_test, y=preds, hue=dragon_y_test, dodge=False)\n",
    "ax.set_xlabel('Real values', fontsize=14)\n",
    "ax.set_ylabel('Predicted values', fontsize=14)"
   ]
  },
  {
   "cell_type": "markdown",
   "metadata": {},
   "source": [
    "### More simple model evaluation"
   ]
  },
  {
   "cell_type": "code",
   "execution_count": 7,
   "metadata": {},
   "outputs": [
    {
     "name": "stdout",
     "output_type": "stream",
     "text": [
      "Means and standard deviations of single 10-fold cv-s:\n",
      "Unscaled: [0.984, 0.006] \n",
      "Scaled: [0.985, 0.003]\n"
     ]
    }
   ],
   "source": [
    "# Logistic regression for influencers\n",
    "# Bad model because of the between feature colinearity but interpretable\n",
    "scaler = StandardScaler()\n",
    "\n",
    "scaler.fit(og_train)\n",
    "og_scaled_train, og_scaled_test = scaler.transform(og_train), scaler.transform(og_test)\n",
    "\n",
    "cv_lr = kfold_test(pd.DataFrame(og_train), y_train, LogisticRegression(max_iter=1000))[0]\n",
    "cv_scaled_lr = kfold_test(pd.DataFrame(og_scaled_train), y_train, LogisticRegression())[0]\n",
    "\n",
    "print('Means and standard deviations of single 10-fold cv-s:\\nUnscaled:', cv_lr, '\\nScaled:', cv_scaled_lr)"
   ]
  },
  {
   "cell_type": "markdown",
   "metadata": {},
   "source": [
    "<strong>&emsp;Note: The Logistic Regression model does not converge at all at default \"max_iter = 100\" (ConvergenceWarining) if the data isn't scaled.<strong>"
   ]
  },
  {
   "cell_type": "code",
   "execution_count": 8,
   "metadata": {},
   "outputs": [
    {
     "data": {
      "text/html": [
       "<div>\n",
       "<style scoped>\n",
       "    .dataframe tbody tr th:only-of-type {\n",
       "        vertical-align: middle;\n",
       "    }\n",
       "\n",
       "    .dataframe tbody tr th {\n",
       "        vertical-align: top;\n",
       "    }\n",
       "\n",
       "    .dataframe thead th {\n",
       "        text-align: right;\n",
       "    }\n",
       "</style>\n",
       "<table border=\"1\" class=\"dataframe\">\n",
       "  <thead>\n",
       "    <tr style=\"text-align: right;\">\n",
       "      <th></th>\n",
       "      <th>XGBC Ft.Imp.</th>\n",
       "      <th>Log.Reg.Coef.</th>\n",
       "      <th>Target corr.</th>\n",
       "    </tr>\n",
       "  </thead>\n",
       "  <tbody>\n",
       "    <tr>\n",
       "      <th>Blue_KillsTower</th>\n",
       "      <td>0.073</td>\n",
       "      <td>1.226</td>\n",
       "      <td>0.814</td>\n",
       "    </tr>\n",
       "    <tr>\n",
       "      <th>Blue_KillsInhib</th>\n",
       "      <td>0.067</td>\n",
       "      <td>0.974</td>\n",
       "      <td>0.703</td>\n",
       "    </tr>\n",
       "    <tr>\n",
       "      <th>Blue_KillsBaron</th>\n",
       "      <td>0.007</td>\n",
       "      <td>0.020</td>\n",
       "      <td>0.513</td>\n",
       "    </tr>\n",
       "    <tr>\n",
       "      <th>Blue_KillsDragon</th>\n",
       "      <td>0.007</td>\n",
       "      <td>0.477</td>\n",
       "      <td>0.578</td>\n",
       "    </tr>\n",
       "    <tr>\n",
       "      <th>Purp_KillsTower</th>\n",
       "      <td>0.134</td>\n",
       "      <td>-1.536</td>\n",
       "      <td>-0.821</td>\n",
       "    </tr>\n",
       "    <tr>\n",
       "      <th>Purp_KillsInhib</th>\n",
       "      <td>0.653</td>\n",
       "      <td>-0.617</td>\n",
       "      <td>-0.711</td>\n",
       "    </tr>\n",
       "    <tr>\n",
       "      <th>Purp_KillsBaron</th>\n",
       "      <td>0.009</td>\n",
       "      <td>0.213</td>\n",
       "      <td>-0.547</td>\n",
       "    </tr>\n",
       "    <tr>\n",
       "      <th>Purp_KillsDragon</th>\n",
       "      <td>0.009</td>\n",
       "      <td>0.135</td>\n",
       "      <td>-0.588</td>\n",
       "    </tr>\n",
       "    <tr>\n",
       "      <th>Blue_Kills</th>\n",
       "      <td>0.005</td>\n",
       "      <td>-0.577</td>\n",
       "      <td>0.575</td>\n",
       "    </tr>\n",
       "    <tr>\n",
       "      <th>Blue_Assists</th>\n",
       "      <td>0.011</td>\n",
       "      <td>1.288</td>\n",
       "      <td>0.539</td>\n",
       "    </tr>\n",
       "    <tr>\n",
       "      <th>Blue_Gold</th>\n",
       "      <td>0.005</td>\n",
       "      <td>4.644</td>\n",
       "      <td>0.427</td>\n",
       "    </tr>\n",
       "    <tr>\n",
       "      <th>Purp_Kills</th>\n",
       "      <td>0.003</td>\n",
       "      <td>0.817</td>\n",
       "      <td>-0.587</td>\n",
       "    </tr>\n",
       "    <tr>\n",
       "      <th>Purp_Assists</th>\n",
       "      <td>0.012</td>\n",
       "      <td>-1.542</td>\n",
       "      <td>-0.519</td>\n",
       "    </tr>\n",
       "    <tr>\n",
       "      <th>Purp_Gold</th>\n",
       "      <td>0.005</td>\n",
       "      <td>-4.991</td>\n",
       "      <td>-0.451</td>\n",
       "    </tr>\n",
       "  </tbody>\n",
       "</table>\n",
       "</div>"
      ],
      "text/plain": [
       "                  XGBC Ft.Imp.  Log.Reg.Coef.  Target corr.\n",
       "Blue_KillsTower          0.073          1.226         0.814\n",
       "Blue_KillsInhib          0.067          0.974         0.703\n",
       "Blue_KillsBaron          0.007          0.020         0.513\n",
       "Blue_KillsDragon         0.007          0.477         0.578\n",
       "Purp_KillsTower          0.134         -1.536        -0.821\n",
       "Purp_KillsInhib          0.653         -0.617        -0.711\n",
       "Purp_KillsBaron          0.009          0.213        -0.547\n",
       "Purp_KillsDragon         0.009          0.135        -0.588\n",
       "Blue_Kills               0.005         -0.577         0.575\n",
       "Blue_Assists             0.011          1.288         0.539\n",
       "Blue_Gold                0.005          4.644         0.427\n",
       "Purp_Kills               0.003          0.817        -0.587\n",
       "Purp_Assists             0.012         -1.542        -0.519\n",
       "Purp_Gold                0.005         -4.991        -0.451"
      ]
     },
     "execution_count": 8,
     "metadata": {},
     "output_type": "execute_result"
    }
   ],
   "source": [
    "coefs = pd.concat([pd.Series(i) for i in [xgbc.feature_importances_, LogisticRegression().fit(og_scaled_train, y_train).coef_[0],\n",
    "                                          og_train.corrwith(y_train).values]], axis=1)\n",
    "coefs.columns, coefs.index = ['XGBC Ft.Imp.', 'Log.Reg.Coef.', 'Target corr.'], og_train.columns\n",
    "coefs = coefs.round(3)\n",
    "coefs"
   ]
  },
  {
   "cell_type": "markdown",
   "metadata": {},
   "source": [
    "&emsp;<u>Columns of interest:</u><br>\n",
    " - <b>Purp_KillsInhib</b> - It seems that XGBoost does a poor job of generalizing, and in this sample (the feature with the greatest feature importance will probably change as I rerun the cells multiple times) it is that Putp_KillsInhib that is heavility weighted. This could be adressed with model tuning but XGBoost with default hyperparameters doesn't seem like the best option right now.\n",
    " - <b>Blue_KillsBaron</b> and <b>Purp_KillsBaron</b> - The multicollinearity is taking its toll here. It messes up the features so even though the correlation is positive, the weight is negative because these features are influenced by other features.\n",
    " - <b>Blue_Kills</b> and <b>Purp_Kills</b> - Same story as with the baron features."
   ]
  },
  {
   "cell_type": "markdown",
   "metadata": {},
   "source": [
    "### Diff features"
   ]
  },
  {
   "cell_type": "code",
   "execution_count": 9,
   "metadata": {
    "scrolled": true
   },
   "outputs": [
    {
     "name": "stdout",
     "output_type": "stream",
     "text": [
      "Accuracies of the diff model:\n",
      "\n",
      "Iteration 1:\n",
      "Mean: 0.984 Std: 0.004\n",
      "\n",
      "Iteration 2:\n",
      "Mean: 0.984 Std: 0.002\n",
      "\n",
      "Iteration 3:\n",
      "Mean: 0.985 Std: 0.001\n",
      "\n"
     ]
    }
   ],
   "source": [
    "blue = pd.concat([og_train.iloc[:, :4], og_train.iloc[:, 8:11]], axis=1)\n",
    "purp = pd.concat([og_train.iloc[:, 4:8], og_train.iloc[:, 11:14]], axis=1)\n",
    "\n",
    "for df in [blue, purp]:\n",
    "    df.columns = ['Diff_Kills'+i for i in ['Tower', 'Inhib', 'Baron', 'Dragon', '']] + ['Diff_'+i for i in ['Assists', 'Gold']]\n",
    "    \n",
    "diff_data = blue - purp\n",
    "xgbc.fit(diff_data, y_train)\n",
    "\n",
    "diff_scores = kfold_test(diff_data, y_train, xgbc, iters=3, kfolds=5)\n",
    "print('Accuracies of the diff model:\\n')\n",
    "for i, v in enumerate(diff_scores):\n",
    "    print('Iteration '+str(i+1)+':\\nMean: '+str(v[0])+' Std: '+str(v[1])+'\\n')"
   ]
  },
  {
   "cell_type": "code",
   "execution_count": 10,
   "metadata": {},
   "outputs": [],
   "source": [
    "# Test diff data\n",
    "blue = pd.concat([og_test.iloc[:, :4], og_test.iloc[:, 8:11]], axis=1)\n",
    "purp = pd.concat([og_test.iloc[:, 4:8], og_test.iloc[:, 11:14]], axis=1)\n",
    "\n",
    "for df in [blue, purp]:\n",
    "    df.columns = ['Diff_Kills'+i for i in ['Tower', 'Inhib', 'Baron', 'Dragon', '']] + ['Diff_'+i for i in ['Assists', 'Gold']]\n",
    "\n",
    "diff_test = blue - purp"
   ]
  },
  {
   "cell_type": "code",
   "execution_count": 11,
   "metadata": {
    "scrolled": true
   },
   "outputs": [
    {
     "name": "stdout",
     "output_type": "stream",
     "text": [
      "Between-feature correnaltions in the difference data:\n",
      "\n",
      "---------------------\n",
      " Diff_KillsTower:\n",
      "---------------------\n",
      "\n",
      "Diff_KillsInhib 0.9065\n",
      "Diff_KillsBaron 0.5987\n",
      "Diff_KillsDragon 0.631\n",
      "Diff_Kills 0.8209\n",
      "Diff_Assists 0.6502\n",
      "Diff_Gold 0.9204\n",
      "\n",
      "---------------------\n",
      " Diff_KillsInhib:\n",
      "---------------------\n",
      "\n",
      "Diff_KillsTower 0.9065\n",
      "Diff_KillsBaron 0.579\n",
      "Diff_KillsDragon 0.5676\n",
      "Diff_Kills 0.7255\n",
      "Diff_Assists 0.5904\n",
      "Diff_Gold 0.8072\n",
      "\n",
      "---------------------\n",
      " Diff_KillsBaron:\n",
      "---------------------\n",
      "\n",
      "Diff_KillsTower 0.5987\n",
      "Diff_KillsInhib 0.579\n",
      "Diff_KillsDragon 0.4052\n",
      "Diff_Kills 0.5467\n",
      "Diff_Assists 0.5025\n",
      "Diff_Gold 0.67\n",
      "\n",
      "---------------------\n",
      " Diff_KillsDragon:\n",
      "---------------------\n",
      "\n",
      "Diff_KillsTower 0.631\n",
      "Diff_KillsInhib 0.5676\n",
      "Diff_KillsBaron 0.4052\n",
      "Diff_Kills 0.6312\n",
      "Diff_Assists 0.492\n",
      "Diff_Gold 0.6534\n",
      "\n",
      "---------------------\n",
      " Diff_Kills:\n",
      "---------------------\n",
      "\n",
      "Diff_KillsTower 0.8209\n",
      "Diff_KillsInhib 0.7255\n",
      "Diff_KillsBaron 0.5467\n",
      "Diff_KillsDragon 0.6312\n",
      "Diff_Assists 0.849\n",
      "Diff_Gold 0.9166\n",
      "\n",
      "---------------------\n",
      " Diff_Assists:\n",
      "---------------------\n",
      "\n",
      "Diff_KillsTower 0.6502\n",
      "Diff_KillsInhib 0.5904\n",
      "Diff_KillsBaron 0.5025\n",
      "Diff_KillsDragon 0.492\n",
      "Diff_Kills 0.849\n",
      "Diff_Gold 0.7726\n",
      "\n",
      "---------------------\n",
      " Diff_Gold:\n",
      "---------------------\n",
      "\n",
      "Diff_KillsTower 0.9204\n",
      "Diff_KillsInhib 0.8072\n",
      "Diff_KillsBaron 0.67\n",
      "Diff_KillsDragon 0.6534\n",
      "Diff_Kills 0.9166\n",
      "Diff_Assists 0.7726\n"
     ]
    }
   ],
   "source": [
    "print('Between-feature correnaltions in the difference data:')\n",
    "eds.print_abv_ft_corr(diff_data)"
   ]
  },
  {
   "cell_type": "code",
   "execution_count": 12,
   "metadata": {},
   "outputs": [
    {
     "name": "stdout",
     "output_type": "stream",
     "text": [
      "Features in the difference data:\n"
     ]
    },
    {
     "data": {
      "text/html": [
       "<div>\n",
       "<style scoped>\n",
       "    .dataframe tbody tr th:only-of-type {\n",
       "        vertical-align: middle;\n",
       "    }\n",
       "\n",
       "    .dataframe tbody tr th {\n",
       "        vertical-align: top;\n",
       "    }\n",
       "\n",
       "    .dataframe thead th {\n",
       "        text-align: right;\n",
       "    }\n",
       "</style>\n",
       "<table border=\"1\" class=\"dataframe\">\n",
       "  <thead>\n",
       "    <tr style=\"text-align: right;\">\n",
       "      <th></th>\n",
       "      <th>XGBC Ft.Imp.</th>\n",
       "      <th>Log.Reg.Coef.</th>\n",
       "      <th>Target corr.</th>\n",
       "    </tr>\n",
       "  </thead>\n",
       "  <tbody>\n",
       "    <tr>\n",
       "      <th>Diff_KillsTower</th>\n",
       "      <td>0.035</td>\n",
       "      <td>2.331</td>\n",
       "      <td>0.874</td>\n",
       "    </tr>\n",
       "    <tr>\n",
       "      <th>Diff_KillsInhib</th>\n",
       "      <td>0.084</td>\n",
       "      <td>1.475</td>\n",
       "      <td>0.809</td>\n",
       "    </tr>\n",
       "    <tr>\n",
       "      <th>Diff_KillsBaron</th>\n",
       "      <td>0.011</td>\n",
       "      <td>-0.239</td>\n",
       "      <td>0.631</td>\n",
       "    </tr>\n",
       "    <tr>\n",
       "      <th>Diff_KillsDragon</th>\n",
       "      <td>0.013</td>\n",
       "      <td>0.300</td>\n",
       "      <td>0.618</td>\n",
       "    </tr>\n",
       "    <tr>\n",
       "      <th>Diff_Kills</th>\n",
       "      <td>0.012</td>\n",
       "      <td>-1.171</td>\n",
       "      <td>0.829</td>\n",
       "    </tr>\n",
       "    <tr>\n",
       "      <th>Diff_Assists</th>\n",
       "      <td>0.020</td>\n",
       "      <td>1.958</td>\n",
       "      <td>0.756</td>\n",
       "    </tr>\n",
       "    <tr>\n",
       "      <th>Diff_Gold</th>\n",
       "      <td>0.825</td>\n",
       "      <td>5.294</td>\n",
       "      <td>0.900</td>\n",
       "    </tr>\n",
       "  </tbody>\n",
       "</table>\n",
       "</div>"
      ],
      "text/plain": [
       "                  XGBC Ft.Imp.  Log.Reg.Coef.  Target corr.\n",
       "Diff_KillsTower          0.035          2.331         0.874\n",
       "Diff_KillsInhib          0.084          1.475         0.809\n",
       "Diff_KillsBaron          0.011         -0.239         0.631\n",
       "Diff_KillsDragon         0.013          0.300         0.618\n",
       "Diff_Kills               0.012         -1.171         0.829\n",
       "Diff_Assists             0.020          1.958         0.756\n",
       "Diff_Gold                0.825          5.294         0.900"
      ]
     },
     "metadata": {},
     "output_type": "display_data"
    }
   ],
   "source": [
    "coefs = pd.concat([pd.Series(i) for i in [xgbc.feature_importances_, LogisticRegression().fit(StandardScaler().fit_transform(diff_data), y_train).coef_[0],\n",
    "                                          diff_data.corrwith(y_train).values]], axis=1)\n",
    "coefs.columns, coefs.index = ['XGBC Ft.Imp.', 'Log.Reg.Coef.', 'Target corr.'], diff_data.columns\n",
    "coefs = coefs.round(3)\n",
    "\n",
    "print('Features in the difference data:')\n",
    "display(coefs)"
   ]
  },
  {
   "cell_type": "markdown",
   "metadata": {},
   "source": [
    "### Diff Gold feature prediction"
   ]
  },
  {
   "cell_type": "code",
   "execution_count": 13,
   "metadata": {
    "scrolled": true
   },
   "outputs": [
    {
     "name": "stdout",
     "output_type": "stream",
     "text": [
      "RMSE of the Gold_Diff in the test set: 2221.869753341692\n",
      "RMSE of the Gold_Diff in the test set: 2278.6152329604633\n"
     ]
    }
   ],
   "source": [
    "y_diff_gold = diff_data['Diff_Gold']\n",
    "X_diff_gold = diff_data.drop('Diff_Gold', axis=1)\n",
    "\n",
    "y_diff_gold_test = diff_test['Diff_Gold']\n",
    "X_diff_gold_test = diff_test.drop('Diff_Gold', axis=1)\n",
    "\n",
    "scaler.fit(X_diff_gold)\n",
    "\n",
    "# Normalized \"y\"\n",
    "#from sklearn.preprocessing import PowerTransformer\n",
    "\n",
    "#pt = PowerTransformer()\n",
    "\n",
    "# Linear Regression\n",
    "lr_gold = LinearRegression()\n",
    "lr_gold.fit(scaler.transform(X_diff_gold), y_diff_gold)\n",
    "\n",
    "preds = lr_gold.predict(scaler.transform(X_diff_gold_test))\n",
    "\n",
    "print('RMSE of the Gold_Diff in the test set:', np.sqrt(mean_squared_error(y_diff_gold_test, preds)))\n",
    "\n",
    "# XGB Regressor\n",
    "xgb_gold = XGBRegressor()\n",
    "\n",
    "xgb_gold.fit(X_diff_gold, y_diff_gold)\n",
    "\n",
    "xgb_preds = xgb_gold.predict(X_diff_gold_test)\n",
    "print('RMSE of the Gold_Diff in the test set:', np.sqrt(mean_squared_error(y_diff_gold_test, xgb_preds)))"
   ]
  },
  {
   "cell_type": "code",
   "execution_count": 14,
   "metadata": {},
   "outputs": [
    {
     "name": "stdout",
     "output_type": "stream",
     "text": [
      "Distribution of the Gold Difference in the predictions:\n"
     ]
    },
    {
     "data": {
      "image/png": "[encoded data removed]",
      "text/plain": [
       "<Figure size 1600x400 with 2 Axes>"
      ]
     },
     "metadata": {
      "needs_background": "light"
     },
     "output_type": "display_data"
    },
    {
     "name": "stdout",
     "output_type": "stream",
     "text": [
      "\n",
      "Skew:  0.0554\n",
      "Mean:  -599.8711\n",
      "Standard Deviation:  9093.6718\n",
      "\n",
      "\n",
      "Distribution of the Gold Difference in the train set:\n"
     ]
    },
    {
     "data": {
      "image/png": "[encoded data removed]",
      "text/plain": [
       "<Figure size 1600x400 with 2 Axes>"
      ]
     },
     "metadata": {
      "needs_background": "light"
     },
     "output_type": "display_data"
    },
    {
     "name": "stdout",
     "output_type": "stream",
     "text": [
      "\n",
      "Skew:  -0.0184\n",
      "Mean:  -157.5943\n",
      "Standard Deviation:  9329.0754\n"
     ]
    }
   ],
   "source": [
    "print('Distribution of the Gold Difference in the predictions:')\n",
    "eds.plot_spread(pd.Series(preds.flatten()))\n",
    "\n",
    "print('\\n\\nDistribution of the Gold Difference in the train set:')\n",
    "eds.plot_spread(y_diff_gold)"
   ]
  },
  {
   "cell_type": "code",
   "execution_count": 15,
   "metadata": {},
   "outputs": [
    {
     "name": "stdout",
     "output_type": "stream",
     "text": [
      "Sample Predictions:\n"
     ]
    },
    {
     "data": {
      "text/html": [
       "<div>\n",
       "<style scoped>\n",
       "    .dataframe tbody tr th:only-of-type {\n",
       "        vertical-align: middle;\n",
       "    }\n",
       "\n",
       "    .dataframe tbody tr th {\n",
       "        vertical-align: top;\n",
       "    }\n",
       "\n",
       "    .dataframe thead th {\n",
       "        text-align: right;\n",
       "    }\n",
       "</style>\n",
       "<table border=\"1\" class=\"dataframe\">\n",
       "  <thead>\n",
       "    <tr style=\"text-align: right;\">\n",
       "      <th></th>\n",
       "      <th>Diff_KillsTower</th>\n",
       "      <th>Diff_KillsInhib</th>\n",
       "      <th>Diff_KillsBaron</th>\n",
       "      <th>Diff_KillsDragon</th>\n",
       "      <th>Diff_Kills</th>\n",
       "      <th>Diff_Assists</th>\n",
       "      <th>Pred_Diff_Gold</th>\n",
       "    </tr>\n",
       "  </thead>\n",
       "  <tbody>\n",
       "    <tr>\n",
       "      <th>10518</th>\n",
       "      <td>-4</td>\n",
       "      <td>-1</td>\n",
       "      <td>-1</td>\n",
       "      <td>0</td>\n",
       "      <td>-14.0</td>\n",
       "      <td>-27.0</td>\n",
       "      <td>-8590.185552</td>\n",
       "    </tr>\n",
       "    <tr>\n",
       "      <th>5600</th>\n",
       "      <td>2</td>\n",
       "      <td>1</td>\n",
       "      <td>1</td>\n",
       "      <td>-1</td>\n",
       "      <td>16.0</td>\n",
       "      <td>46.0</td>\n",
       "      <td>7379.138336</td>\n",
       "    </tr>\n",
       "    <tr>\n",
       "      <th>885</th>\n",
       "      <td>-3</td>\n",
       "      <td>-1</td>\n",
       "      <td>-1</td>\n",
       "      <td>-4</td>\n",
       "      <td>-5.0</td>\n",
       "      <td>-34.0</td>\n",
       "      <td>-5828.509534</td>\n",
       "    </tr>\n",
       "    <tr>\n",
       "      <th>7958</th>\n",
       "      <td>-9</td>\n",
       "      <td>-3</td>\n",
       "      <td>-1</td>\n",
       "      <td>-3</td>\n",
       "      <td>-12.0</td>\n",
       "      <td>-12.0</td>\n",
       "      <td>-10973.217208</td>\n",
       "    </tr>\n",
       "    <tr>\n",
       "      <th>580</th>\n",
       "      <td>-7</td>\n",
       "      <td>-2</td>\n",
       "      <td>-1</td>\n",
       "      <td>-2</td>\n",
       "      <td>-16.0</td>\n",
       "      <td>-23.0</td>\n",
       "      <td>-11154.008638</td>\n",
       "    </tr>\n",
       "  </tbody>\n",
       "</table>\n",
       "</div>"
      ],
      "text/plain": [
       "       Diff_KillsTower  Diff_KillsInhib  Diff_KillsBaron  Diff_KillsDragon  \\\n",
       "10518               -4               -1               -1                 0   \n",
       "5600                 2                1                1                -1   \n",
       "885                 -3               -1               -1                -4   \n",
       "7958                -9               -3               -1                -3   \n",
       "580                 -7               -2               -1                -2   \n",
       "\n",
       "       Diff_Kills  Diff_Assists  Pred_Diff_Gold  \n",
       "10518       -14.0         -27.0    -8590.185552  \n",
       "5600         16.0          46.0     7379.138336  \n",
       "885          -5.0         -34.0    -5828.509534  \n",
       "7958        -12.0         -12.0   -10973.217208  \n",
       "580         -16.0         -23.0   -11154.008638  "
      ]
     },
     "execution_count": 15,
     "metadata": {},
     "output_type": "execute_result"
    }
   ],
   "source": [
    "print('Sample Predictions:')\n",
    "pd.concat([X_diff_gold_test, pd.Series(preds, index=X_diff_gold_test.index)], axis=1).rename(columns={0: 'Pred_Diff_Gold'}).sample(5)"
   ]
  },
  {
   "cell_type": "code",
   "execution_count": 16,
   "metadata": {},
   "outputs": [
    {
     "name": "stdout",
     "output_type": "stream",
     "text": [
      "How prediction varies based on each feature\n",
      "\n",
      "Feature vecotr used in the plot:\n"
     ]
    },
    {
     "data": {
      "text/html": [
       "<div>\n",
       "<style scoped>\n",
       "    .dataframe tbody tr th:only-of-type {\n",
       "        vertical-align: middle;\n",
       "    }\n",
       "\n",
       "    .dataframe tbody tr th {\n",
       "        vertical-align: top;\n",
       "    }\n",
       "\n",
       "    .dataframe thead th {\n",
       "        text-align: right;\n",
       "    }\n",
       "</style>\n",
       "<table border=\"1\" class=\"dataframe\">\n",
       "  <thead>\n",
       "    <tr style=\"text-align: right;\">\n",
       "      <th></th>\n",
       "      <th>Diff_KillsTower</th>\n",
       "      <th>Diff_KillsInhib</th>\n",
       "      <th>Diff_KillsBaron</th>\n",
       "      <th>Diff_KillsDragon</th>\n",
       "      <th>Diff_Kills</th>\n",
       "      <th>Diff_Assists</th>\n",
       "    </tr>\n",
       "  </thead>\n",
       "  <tbody>\n",
       "    <tr>\n",
       "      <th>9749</th>\n",
       "      <td>5</td>\n",
       "      <td>2</td>\n",
       "      <td>0</td>\n",
       "      <td>4</td>\n",
       "      <td>5.0</td>\n",
       "      <td>28.0</td>\n",
       "    </tr>\n",
       "  </tbody>\n",
       "</table>\n",
       "</div>"
      ],
      "text/plain": [
       "      Diff_KillsTower  Diff_KillsInhib  Diff_KillsBaron  Diff_KillsDragon  \\\n",
       "9749                5                2                0                 4   \n",
       "\n",
       "      Diff_Kills  Diff_Assists  \n",
       "9749         5.0          28.0  "
      ]
     },
     "metadata": {},
     "output_type": "display_data"
    },
    {
     "data": {
      "image/png": "[encoded data removed]",
      "text/plain": [
       "<Figure size 800x500 with 1 Axes>"
      ]
     },
     "metadata": {
      "needs_background": "light"
     },
     "output_type": "display_data"
    }
   ],
   "source": [
    "# Plotting Linear Regression influencers\n",
    "values = (scaler.transform(X_diff_gold_test.iloc[:1]) * lr_gold.coef_).tolist()[0] + [lr_gold.intercept_]\n",
    "\n",
    "print('How prediction varies based on each feature\\n\\nFeature vecotr used in the plot:')\n",
    "display(X_diff_gold_test.iloc[:1])\n",
    "\n",
    "waterfall_chart.plot(X_diff_gold.columns.tolist()+['Intercept'], values, net_label='Prediction');"
   ]
  },
  {
   "cell_type": "code",
   "execution_count": 17,
   "metadata": {},
   "outputs": [
    {
     "name": "stdout",
     "output_type": "stream",
     "text": [
      "Features in the difference data:\n"
     ]
    },
    {
     "data": {
      "text/html": [
       "<div>\n",
       "<style scoped>\n",
       "    .dataframe tbody tr th:only-of-type {\n",
       "        vertical-align: middle;\n",
       "    }\n",
       "\n",
       "    .dataframe tbody tr th {\n",
       "        vertical-align: top;\n",
       "    }\n",
       "\n",
       "    .dataframe thead th {\n",
       "        text-align: right;\n",
       "    }\n",
       "</style>\n",
       "<table border=\"1\" class=\"dataframe\">\n",
       "  <thead>\n",
       "    <tr style=\"text-align: right;\">\n",
       "      <th></th>\n",
       "      <th>XGBC Ft.Imp.</th>\n",
       "      <th>Lin.Reg.Coef.</th>\n",
       "      <th>Target corr.</th>\n",
       "    </tr>\n",
       "  </thead>\n",
       "  <tbody>\n",
       "    <tr>\n",
       "      <th>Diff_KillsTower</th>\n",
       "      <td>0.784</td>\n",
       "      <td>5376.333</td>\n",
       "      <td>0.920</td>\n",
       "    </tr>\n",
       "    <tr>\n",
       "      <th>Diff_KillsInhib</th>\n",
       "      <td>0.009</td>\n",
       "      <td>-1304.867</td>\n",
       "      <td>0.807</td>\n",
       "    </tr>\n",
       "    <tr>\n",
       "      <th>Diff_KillsBaron</th>\n",
       "      <td>0.038</td>\n",
       "      <td>1388.629</td>\n",
       "      <td>0.670</td>\n",
       "    </tr>\n",
       "    <tr>\n",
       "      <th>Diff_KillsDragon</th>\n",
       "      <td>0.006</td>\n",
       "      <td>282.529</td>\n",
       "      <td>0.653</td>\n",
       "    </tr>\n",
       "    <tr>\n",
       "      <th>Diff_Kills</th>\n",
       "      <td>0.156</td>\n",
       "      <td>3767.173</td>\n",
       "      <td>0.917</td>\n",
       "    </tr>\n",
       "    <tr>\n",
       "      <th>Diff_Assists</th>\n",
       "      <td>0.007</td>\n",
       "      <td>446.817</td>\n",
       "      <td>0.773</td>\n",
       "    </tr>\n",
       "  </tbody>\n",
       "</table>\n",
       "</div>"
      ],
      "text/plain": [
       "                  XGBC Ft.Imp.  Lin.Reg.Coef.  Target corr.\n",
       "Diff_KillsTower          0.784       5376.333         0.920\n",
       "Diff_KillsInhib          0.009      -1304.867         0.807\n",
       "Diff_KillsBaron          0.038       1388.629         0.670\n",
       "Diff_KillsDragon         0.006        282.529         0.653\n",
       "Diff_Kills               0.156       3767.173         0.917\n",
       "Diff_Assists             0.007        446.817         0.773"
      ]
     },
     "metadata": {},
     "output_type": "display_data"
    }
   ],
   "source": [
    "gold_coefs = pd.concat([pd.Series(i) for i in [xgb_gold.feature_importances_, lr_gold.coef_,\n",
    "                                          X_diff_gold.corrwith(y_diff_gold).values]], axis=1)\n",
    "gold_coefs.columns, gold_coefs.index = ['XGBC Ft.Imp.', 'Lin.Reg.Coef.', 'Target corr.'], X_diff_gold.columns\n",
    "gold_coefs = gold_coefs.round(3)\n",
    "\n",
    "print('Features in the difference data:')\n",
    "display(gold_coefs)"
   ]
  },
  {
   "cell_type": "code",
   "execution_count": 18,
   "metadata": {},
   "outputs": [
    {
     "data": {
      "image/png": "[encoded data removed]",
      "text/plain": [
       "<Figure size 1200x500 with 2 Axes>"
      ]
     },
     "metadata": {
      "needs_background": "light"
     },
     "output_type": "display_data"
    }
   ],
   "source": [
    "# Plotting gold spread by team won (real vs predicted)\n",
    "# Real\n",
    "plt_target_data = pd.concat([y_diff_gold_test, y_test], axis=1)\n",
    "\n",
    "fig, ax = plt.subplots(1, 2, figsize=(12, 5))\n",
    "\n",
    "sns.kdeplot(plt_target_data.loc[plt_target_data['Blue_Won']==1]['Diff_Gold'], shade=True, ax=ax[0])\n",
    "sns.kdeplot(plt_target_data.loc[plt_target_data['Blue_Won']==0]['Diff_Gold'], shade=True, ax=ax[0])\n",
    "\n",
    "ax[0].legend(['Blue won', 'Red won'])\n",
    "ax[0].set_title('Distribution of gold difference values for team won')\n",
    "\n",
    "# Predicted\n",
    "plt_pred_data =  pd.concat([pd.Series(preds, index=y_test.index), y_test], axis=1)\n",
    "\n",
    "sns.kdeplot(plt_pred_data.loc[plt_pred_data['Blue_Won']==1][0], shade=True, ax=ax[1])\n",
    "sns.kdeplot(plt_pred_data.loc[plt_pred_data['Blue_Won']==0][0], shade=True, ax=ax[1])\n",
    "\n",
    "ax[1].legend(['Blue won', 'Red won'])\n",
    "ax[1].set_title('Distribution of gold difference prediction for team won');"
   ]
  },
  {
   "cell_type": "markdown",
   "metadata": {},
   "source": [
    "#!!!Add something about non-normal target value after you've talked with JQ about it.\n",
    "&emsp; Since Gold_Diff is the most useful feature (and the feature that contains the most information since a lot of other features influence it), it is wise to properly examine it. I took into acount simple Lin.Reg. and XGB Regressor, but since the vanilla XGB was there only for comparison and since it is not as __interpretable__, I decided to stick with the __Lin.Reg.__ for the most time.<br>\n",
    "&emsp; __RMSE__ of 2300 gold is actually an excellent number since that means that error difference beteween each player is only 460, which is practically nothing, __1st and 3rd quartiles__ of ~7500 are also pretty good.<br>\n",
    "&emsp;It seems that __between-the-features correlation__ is messing the things up again (will be adressed shortly), as observed before, some Lin.Reg. coefficients have completely opposite values. On the other side, the __proportion of coefficients__ seems okay at glance (except __Diff_KillsInhib__)."
   ]
  },
  {
   "cell_type": "markdown",
   "metadata": {},
   "source": [
    "### Feature reduction by components - PCA/PLS"
   ]
  },
  {
   "cell_type": "code",
   "execution_count": 30,
   "metadata": {},
   "outputs": [
    {
     "name": "stdout",
     "output_type": "stream",
     "text": [
      "Explained variance ratio by the first 4 components: 0.961634\n",
      "Test set accuracy: 0.97625\n"
     ]
    }
   ],
   "source": [
    "from sklearn.decomposition import PCA\n",
    "\n",
    "diff_data_scaled = scaler.fit_transform(diff_data)\n",
    "\n",
    "pca = PCA(n_components=4)\n",
    "pca.fit(diff_data_scaled)\n",
    "\n",
    "print('Explained variance ratio by the first 4 components:', sum(pca.explained_variance_ratio_).round(6))\n",
    "\n",
    "pca_data = pca.transform(diff_data_scaled)\n",
    "\n",
    "pca_lr = LogisticRegression()\n",
    "pca_lr.fit(pca_data, y_train)\n",
    "\n",
    "pca_test = pca.transform(scaler.transform(diff_test))\n",
    "\n",
    "print('Test set accuracy:', round(accuracy_score(y_test, pca_lr.predict(pca_test)), 5))"
   ]
  },
  {
   "cell_type": "code",
   "execution_count": 31,
   "metadata": {},
   "outputs": [
    {
     "data": {
      "text/html": [
       "<div>\n",
       "<style scoped>\n",
       "    .dataframe tbody tr th:only-of-type {\n",
       "        vertical-align: middle;\n",
       "    }\n",
       "\n",
       "    .dataframe tbody tr th {\n",
       "        vertical-align: top;\n",
       "    }\n",
       "\n",
       "    .dataframe thead th {\n",
       "        text-align: right;\n",
       "    }\n",
       "</style>\n",
       "<table border=\"1\" class=\"dataframe\">\n",
       "  <thead>\n",
       "    <tr style=\"text-align: right;\">\n",
       "      <th></th>\n",
       "      <th>Pred Blue Lost</th>\n",
       "      <th>Pred Blue Won</th>\n",
       "    </tr>\n",
       "  </thead>\n",
       "  <tbody>\n",
       "    <tr>\n",
       "      <th>Real Blue Lost</th>\n",
       "      <td>564</td>\n",
       "      <td>12</td>\n",
       "    </tr>\n",
       "    <tr>\n",
       "      <th>Real Blue Won</th>\n",
       "      <td>15</td>\n",
       "      <td>546</td>\n",
       "    </tr>\n",
       "  </tbody>\n",
       "</table>\n",
       "</div>"
      ],
      "text/plain": [
       "                Pred Blue Lost  Pred Blue Won\n",
       "Real Blue Lost             564             12\n",
       "Real Blue Won               15            546"
      ]
     },
     "execution_count": 31,
     "metadata": {},
     "output_type": "execute_result"
    }
   ],
   "source": [
    "pd.DataFrame(confusion_matrix(y_test, pca_lr.predict(pca_test)), index=['Real Blue Lost', 'Real Blue Won'],\n",
    "             columns=['Pred Blue Lost', 'Pred Blue Won'])"
   ]
  },
  {
   "cell_type": "markdown",
   "metadata": {},
   "source": [
    "&emsp;Scikit-learn inverts the confusion matrix by default (inverted binary classes)."
   ]
  },
  {
   "cell_type": "code",
   "execution_count": 41,
   "metadata": {},
   "outputs": [
    {
     "data": {
      "text/plain": [
       "['lr_pipeline.pkl']"
      ]
     },
     "execution_count": 41,
     "metadata": {},
     "output_type": "execute_result"
    }
   ],
   "source": [
    "# Exporting pipeline\n",
    "pipeline = Pipeline([('scaler', StandardScaler()), ('pca', PCA()), ('lr', LogisticRegression())])\n",
    "pipeline.fit(diff_data, y_train)\n",
    "\n",
    "with open('lr_pipeline.pkl', 'wb') as f:\n",
    "    joblib.dump(pipeline, f)\n",
    "    \n",
    "joblib.dump(pipeline, 'lr_pipeline.pkl')"
   ]
  },
  {
   "cell_type": "markdown",
   "metadata": {},
   "source": [
    "### Neural Net to combine the time feature with other features (late game feature importance)\n",
    "Why you wanna do this:\n",
    " - As the game progresses, the gold diff becomes less significant\n",
    " - Some champions are good late game\n",
    " - Actually most of the features become more or less useless later on (you could evaluate \"team skill\" early    on to see the outcome later - better team weight - talk to JQ"
   ]
  },
  {
   "cell_type": "code",
   "execution_count": null,
   "metadata": {},
   "outputs": [],
   "source": [
    "# Game Duration and ChapionID correlation by the Blue Won games\n",
    "corrs = {}\n",
    "\n",
    "for champ in data['Blue_Top_ChampionID'].unique():\n",
    "    curr_data = data.loc[data['Blue_Won']==1]\n",
    "    curr_data['Blue_Top_ChampionID'] = np.where(curr_data['Blue_Top_ChampionID']==champ, 1, 0)\n",
    "    \n",
    "    corrs[champ] = curr_data['GameDuration'].corr(curr_data['Blue_Top_ChampionID']).round(3)\n",
    "    \n",
    "corrs = {k: v for k, v in sorted(corrs.items(), key=lambda item: item[1])}\n",
    "\n",
    "# Game Duration and ChapionID correlation by the Blue Won and Duration>35min games\n",
    "corrs = {}\n",
    "\n",
    "for champ in data['Blue_Top_ChampionID'].unique():\n",
    "    curr_data = data.loc[(data['GameDuration']>2100)&(data['Blue_Won']==1)]\n",
    "    curr_data['Blue_Top_ChampionID'] = np.where(curr_data['Blue_Top_ChampionID']==champ, 1, 0)\n",
    "    \n",
    "    corrs[champ] = curr_data['GameDuration'].corr(curr_data['Blue_Top_ChampionID']).round(3)\n",
    "\n",
    "corrs = {k: v for k, v in sorted(corrs.items(), key=lambda item: item[1])}"
   ]
  }
 ],
 "metadata": {
  "kernelspec": {
   "display_name": "Python 3",
   "language": "python",
   "name": "python3"
  },
  "language_info": {
   "codemirror_mode": {
    "name": "ipython",
    "version": 3
   },
   "file_extension": ".py",
   "mimetype": "text/x-python",
   "name": "python",
   "nbconvert_exporter": "python",
   "pygments_lexer": "ipython3",
   "version": "3.8.3"
  }
 },
 "nbformat": 4,
 "nbformat_minor": 4
}
